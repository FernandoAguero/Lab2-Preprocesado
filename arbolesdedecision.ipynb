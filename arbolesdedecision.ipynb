{
  "nbformat": 4,
  "nbformat_minor": 0,
  "metadata": {
    "colab": {
      "provenance": [],
      "include_colab_link": true
    },
    "kernelspec": {
      "name": "python3",
      "display_name": "Python 3"
    },
    "language_info": {
      "name": "python"
    }
  },
  "cells": [
    {
      "cell_type": "markdown",
      "metadata": {
        "id": "view-in-github",
        "colab_type": "text"
      },
      "source": [
        "<a href=\"https://colab.research.google.com/github/FernandoAguero/Lab2-Preprocesado/blob/main/arbolesdedecision.ipynb\" target=\"_parent\"><img src=\"https://colab.research.google.com/assets/colab-badge.svg\" alt=\"Open In Colab\"/></a>"
      ]
    },
    {
      "cell_type": "markdown",
      "source": [
        "Fitzberth Powell Channer B55522\n",
        "Fernando Aguero Cordero B60086\n",
        "\n"
      ],
      "metadata": {
        "id": "ylEoqST0MnD3"
      }
    },
    {
      "cell_type": "markdown",
      "source": [
        "#Árboles de Decisión"
      ],
      "metadata": {
        "id": "tQC9ULK3zzeD"
      }
    },
    {
      "cell_type": "markdown",
      "source": [
        "##Descripción de los Árboles de Decisión\n",
        "La inducción de árboles de decisión es un proceso utilizado en la minería de datos para construir modelos predictivos y tomar decisiones basadas en características del conjunto de datos. Un árbol de decisión es una estructura en forma de árbol compuesta por nodos y ramas que representan decisiones y resultados. Cada nodo interno del árbol representa una característica del conjunto de datos, y las ramas que salen de ese nodo representan los posibles valores que puede tomar esa característica. Los nodos hoja representan los resultados o predicciones finales.\n",
        "\n",
        "El proceso de inducción de árboles de decisión generalmente se realiza utilizando un algoritmo como el algoritmo ID3 (Iterative Dichotomiser 3), el algoritmo C4.5 o el algoritmo CART (Classification and Regression Trees). Estos algoritmos buscan encontrar la mejor característica para dividir el conjunto de datos en cada paso y construir el árbol de decisión de manera iterativa.\n",
        "\n",
        "El algoritmo selecciona la característica que proporciona la mayor ganancia de información o la mayor reducción de la impureza en el conjunto de datos. La ganancia de información se refiere a la medida de cuánta información se obtiene al dividir el conjunto de datos utilizando una característica en particular. La impureza se refiere a la medida de qué tan mezcladas están las clases en el conjunto de datos.\n",
        "\n",
        "Durante la construcción del árbol, el algoritmo puede detenerse en diferentes condiciones, como cuando todas las muestras pertenecen a la misma clase, cuando no hay más características disponibles o cuando se alcanza un límite de profundidad predefinido.\n",
        "\n",
        "Una vez que se ha construido el árbol de decisión, se puede utilizar para realizar predicciones en nuevas instancias o para tomar decisiones basadas en las características proporcionadas. Cada instancia sigue el camino desde la raíz hasta un nodo hoja basado en los valores de sus características, y la clase asociada con ese nodo hoja se considera la predicción o decisión final.\n",
        "\n",
        "Los árboles de decisión son atractivos porque son fácilmente interpretables y permiten visualizar las reglas de decisión. Sin embargo, también pueden ser propensos al sobreajuste y pueden requerir técnicas de poda o regularización para mejorar su rendimiento en datos no vistos."
      ],
      "metadata": {
        "id": "A9YS4__lzHxl"
      }
    },
    {
      "cell_type": "markdown",
      "source": [
        "##¿Cuándo utilizar los árboles de decisión en la minería de datos?\n",
        "\n",
        "Los árboles de decisión son algoritmos versátiles que pueden funcionar bien en una variedad de conjuntos de datos en minería de datos. Sin embargo, algunos tipos de conjuntos de datos son especialmente adecuados para trabajar con árboles de decisión. Aquí hay algunos ejemplos:\n",
        "\n",
        "1. Conjuntos de datos con características categóricas y numéricas: Los árboles de decisión pueden manejar tanto características categóricas como numéricas sin requerir transformaciones adicionales. Por lo tanto, son útiles cuando se trabaja con conjuntos de datos que contienen una combinación de ambos tipos de características.\n",
        "\n",
        "2. Conjuntos de datos con características de alta dimensionalidad: Los árboles de decisión pueden manejar conjuntos de datos con muchas características de manera eficiente. A diferencia de algunos algoritmos que pueden verse afectados por la dimensionalidad alta, los árboles de decisión pueden lidiar con esta situación y seleccionar automáticamente las características más importantes para la clasificación o regresión.\n",
        "\n",
        "3. Conjuntos de datos con relaciones no lineales: Los árboles de decisión son capaces de capturar relaciones no lineales entre características y etiquetas. Pueden formar divisiones y combinaciones no lineales en el espacio de características, lo que los hace adecuados para conjuntos de datos donde las relaciones no son lineales.\n",
        "\n",
        "4. Conjuntos de datos con características faltantes o valores atípicos: Los árboles de decisión pueden manejar fácilmente características faltantes o valores atípicos sin requerir imputación de datos o preprocesamiento adicional. Esto los convierte en una buena opción cuando se trabaja con conjuntos de datos que pueden contener valores faltantes o atípicos.\n",
        "\n",
        "5. Conjuntos de datos interpretables: Los árboles de decisión tienen la ventaja de ser modelos interpretables. Puedes comprender y visualizar fácilmente las reglas de decisión en forma de un árbol, lo que ayuda a comprender cómo se toman las decisiones basadas en las características del conjunto de datos.\n",
        "\n",
        "Sin embargo, vale la pena recordar que los árboles de decisión también tienen limitaciones. Pueden ser propensos al sobreajuste en conjuntos de datos ruidosos o con muchos datos irrelevantes. En tales casos, pueden ser necesarios enfoques de mejora, como la poda del árbol o el uso de ensamblajes de árboles, como Random Forest o Gradient Boosting."
      ],
      "metadata": {
        "id": "nxKq6zxAz2oC"
      }
    },
    {
      "cell_type": "markdown",
      "source": [
        "##Construcción de un Árbol de Decisión\n",
        "\n",
        "Para programar la construcción de un árbol de decisión para minería de datos en Python, pueden utilizar bibliotecas populares como scikit-learn. A continuación, un ejemplo básico de cómo programar un árbol de decisión utilizando scikit-learn:\n",
        "\n",
        "1. Instalar scikit-learn:\n",
        "Asegúrense de tener scikit-learn instalado en tu entorno Python. Pueden instalarlo utilizando el siguiente comando en tu terminal o consola:\n",
        "\n",
        "```\n",
        "pip install scikit-learn\n",
        "```\n",
        "(Solo necesario en caso de trabajar externo a Google Colaboratory)\n",
        "\n",
        "2. Importar las bibliotecas necesarias: Importen las bibliotecas necesarias, incluyendo las clases DecisionTreeClassifier y train_test_split de scikit-learn, así como cualquier otra biblioteca adicional que necesiten:"
      ],
      "metadata": {
        "id": "M17UnNAP1RaY"
      }
    },
    {
      "cell_type": "code",
      "source": [
        "from sklearn.tree import DecisionTreeClassifier\n",
        "from sklearn.model_selection import train_test_split\n",
        "from sklearn.metrics import accuracy_score\n",
        "import pandas as pd\n",
        "import io"
      ],
      "metadata": {
        "id": "W6DIP6QI11mm"
      },
      "execution_count": null,
      "outputs": []
    },
    {
      "cell_type": "markdown",
      "source": [
        "3. Preparar los datos: Prepara tus datos de entrenamiento y prueba. Asegúranse de tener características (features) y etiquetas (labels) adecuadas para el entrenamiento y la evaluación del modelo. Puedes usar bibliotecas como pandas para cargar y procesar tus datos:"
      ],
      "metadata": {
        "id": "O8g4MoGg13mr"
      }
    },
    {
      "cell_type": "code",
      "source": [
        "# En caso de datasets a cargar desde un archivo CSV\n",
        "# data = pd.read_csv('datos.csv')\n",
        "\n",
        "# Cargar el conjunto de datos de flores Iris\n",
        "# Separar características y etiquetas\n",
        "from google.colab import files\n",
        "uploaded = files.upload()\n",
        "data = pd.read_csv(io.BytesIO(uploaded['Iris.csv']))\n",
        "X = data[['PetalLengthCm','PetalWidthCm','SepalWidthCm','SepalLengthCm']]  # Características\n",
        "y = data[['Species']]  # Etiquetas"
      ],
      "metadata": {
        "id": "T9LQuNcp16_b",
        "outputId": "efe95f16-b70b-4519-cb26-6bb5a6820df9",
        "colab": {
          "base_uri": "https://localhost:8080/",
          "height": 73
        }
      },
      "execution_count": null,
      "outputs": [
        {
          "output_type": "display_data",
          "data": {
            "text/plain": [
              "<IPython.core.display.HTML object>"
            ],
            "text/html": [
              "\n",
              "     <input type=\"file\" id=\"files-5dcabdde-c29d-41e0-b6ee-a7a8fa828823\" name=\"files[]\" multiple disabled\n",
              "        style=\"border:none\" />\n",
              "     <output id=\"result-5dcabdde-c29d-41e0-b6ee-a7a8fa828823\">\n",
              "      Upload widget is only available when the cell has been executed in the\n",
              "      current browser session. Please rerun this cell to enable.\n",
              "      </output>\n",
              "      <script>// Copyright 2017 Google LLC\n",
              "//\n",
              "// Licensed under the Apache License, Version 2.0 (the \"License\");\n",
              "// you may not use this file except in compliance with the License.\n",
              "// You may obtain a copy of the License at\n",
              "//\n",
              "//      http://www.apache.org/licenses/LICENSE-2.0\n",
              "//\n",
              "// Unless required by applicable law or agreed to in writing, software\n",
              "// distributed under the License is distributed on an \"AS IS\" BASIS,\n",
              "// WITHOUT WARRANTIES OR CONDITIONS OF ANY KIND, either express or implied.\n",
              "// See the License for the specific language governing permissions and\n",
              "// limitations under the License.\n",
              "\n",
              "/**\n",
              " * @fileoverview Helpers for google.colab Python module.\n",
              " */\n",
              "(function(scope) {\n",
              "function span(text, styleAttributes = {}) {\n",
              "  const element = document.createElement('span');\n",
              "  element.textContent = text;\n",
              "  for (const key of Object.keys(styleAttributes)) {\n",
              "    element.style[key] = styleAttributes[key];\n",
              "  }\n",
              "  return element;\n",
              "}\n",
              "\n",
              "// Max number of bytes which will be uploaded at a time.\n",
              "const MAX_PAYLOAD_SIZE = 100 * 1024;\n",
              "\n",
              "function _uploadFiles(inputId, outputId) {\n",
              "  const steps = uploadFilesStep(inputId, outputId);\n",
              "  const outputElement = document.getElementById(outputId);\n",
              "  // Cache steps on the outputElement to make it available for the next call\n",
              "  // to uploadFilesContinue from Python.\n",
              "  outputElement.steps = steps;\n",
              "\n",
              "  return _uploadFilesContinue(outputId);\n",
              "}\n",
              "\n",
              "// This is roughly an async generator (not supported in the browser yet),\n",
              "// where there are multiple asynchronous steps and the Python side is going\n",
              "// to poll for completion of each step.\n",
              "// This uses a Promise to block the python side on completion of each step,\n",
              "// then passes the result of the previous step as the input to the next step.\n",
              "function _uploadFilesContinue(outputId) {\n",
              "  const outputElement = document.getElementById(outputId);\n",
              "  const steps = outputElement.steps;\n",
              "\n",
              "  const next = steps.next(outputElement.lastPromiseValue);\n",
              "  return Promise.resolve(next.value.promise).then((value) => {\n",
              "    // Cache the last promise value to make it available to the next\n",
              "    // step of the generator.\n",
              "    outputElement.lastPromiseValue = value;\n",
              "    return next.value.response;\n",
              "  });\n",
              "}\n",
              "\n",
              "/**\n",
              " * Generator function which is called between each async step of the upload\n",
              " * process.\n",
              " * @param {string} inputId Element ID of the input file picker element.\n",
              " * @param {string} outputId Element ID of the output display.\n",
              " * @return {!Iterable<!Object>} Iterable of next steps.\n",
              " */\n",
              "function* uploadFilesStep(inputId, outputId) {\n",
              "  const inputElement = document.getElementById(inputId);\n",
              "  inputElement.disabled = false;\n",
              "\n",
              "  const outputElement = document.getElementById(outputId);\n",
              "  outputElement.innerHTML = '';\n",
              "\n",
              "  const pickedPromise = new Promise((resolve) => {\n",
              "    inputElement.addEventListener('change', (e) => {\n",
              "      resolve(e.target.files);\n",
              "    });\n",
              "  });\n",
              "\n",
              "  const cancel = document.createElement('button');\n",
              "  inputElement.parentElement.appendChild(cancel);\n",
              "  cancel.textContent = 'Cancel upload';\n",
              "  const cancelPromise = new Promise((resolve) => {\n",
              "    cancel.onclick = () => {\n",
              "      resolve(null);\n",
              "    };\n",
              "  });\n",
              "\n",
              "  // Wait for the user to pick the files.\n",
              "  const files = yield {\n",
              "    promise: Promise.race([pickedPromise, cancelPromise]),\n",
              "    response: {\n",
              "      action: 'starting',\n",
              "    }\n",
              "  };\n",
              "\n",
              "  cancel.remove();\n",
              "\n",
              "  // Disable the input element since further picks are not allowed.\n",
              "  inputElement.disabled = true;\n",
              "\n",
              "  if (!files) {\n",
              "    return {\n",
              "      response: {\n",
              "        action: 'complete',\n",
              "      }\n",
              "    };\n",
              "  }\n",
              "\n",
              "  for (const file of files) {\n",
              "    const li = document.createElement('li');\n",
              "    li.append(span(file.name, {fontWeight: 'bold'}));\n",
              "    li.append(span(\n",
              "        `(${file.type || 'n/a'}) - ${file.size} bytes, ` +\n",
              "        `last modified: ${\n",
              "            file.lastModifiedDate ? file.lastModifiedDate.toLocaleDateString() :\n",
              "                                    'n/a'} - `));\n",
              "    const percent = span('0% done');\n",
              "    li.appendChild(percent);\n",
              "\n",
              "    outputElement.appendChild(li);\n",
              "\n",
              "    const fileDataPromise = new Promise((resolve) => {\n",
              "      const reader = new FileReader();\n",
              "      reader.onload = (e) => {\n",
              "        resolve(e.target.result);\n",
              "      };\n",
              "      reader.readAsArrayBuffer(file);\n",
              "    });\n",
              "    // Wait for the data to be ready.\n",
              "    let fileData = yield {\n",
              "      promise: fileDataPromise,\n",
              "      response: {\n",
              "        action: 'continue',\n",
              "      }\n",
              "    };\n",
              "\n",
              "    // Use a chunked sending to avoid message size limits. See b/62115660.\n",
              "    let position = 0;\n",
              "    do {\n",
              "      const length = Math.min(fileData.byteLength - position, MAX_PAYLOAD_SIZE);\n",
              "      const chunk = new Uint8Array(fileData, position, length);\n",
              "      position += length;\n",
              "\n",
              "      const base64 = btoa(String.fromCharCode.apply(null, chunk));\n",
              "      yield {\n",
              "        response: {\n",
              "          action: 'append',\n",
              "          file: file.name,\n",
              "          data: base64,\n",
              "        },\n",
              "      };\n",
              "\n",
              "      let percentDone = fileData.byteLength === 0 ?\n",
              "          100 :\n",
              "          Math.round((position / fileData.byteLength) * 100);\n",
              "      percent.textContent = `${percentDone}% done`;\n",
              "\n",
              "    } while (position < fileData.byteLength);\n",
              "  }\n",
              "\n",
              "  // All done.\n",
              "  yield {\n",
              "    response: {\n",
              "      action: 'complete',\n",
              "    }\n",
              "  };\n",
              "}\n",
              "\n",
              "scope.google = scope.google || {};\n",
              "scope.google.colab = scope.google.colab || {};\n",
              "scope.google.colab._files = {\n",
              "  _uploadFiles,\n",
              "  _uploadFilesContinue,\n",
              "};\n",
              "})(self);\n",
              "</script> "
            ]
          },
          "metadata": {}
        },
        {
          "output_type": "stream",
          "name": "stdout",
          "text": [
            "Saving Iris.csv to Iris (1).csv\n"
          ]
        }
      ]
    },
    {
      "cell_type": "markdown",
      "source": [
        "4. Dividir los datos en conjuntos de entrenamiento y prueba: Dividan los datos en conjuntos de entrenamiento y prueba para evaluar el rendimiento del modelo. Usaremos la función train_test_split de scikit-learn:"
      ],
      "metadata": {
        "id": "29HviPiq2UnR"
      }
    },
    {
      "cell_type": "code",
      "source": [
        "X_train, X_test, y_train, y_test = train_test_split(X, y, test_size=0.2, random_state=42)"
      ],
      "metadata": {
        "id": "9ysIjQuh2YP1"
      },
      "execution_count": null,
      "outputs": []
    },
    {
      "cell_type": "markdown",
      "source": [
        "5. Crear y entrenar el modelo del árbol de decisión: Creen una instancia del clasificador DecisionTreeClassifier y luego entrenen el modelo utilizando los datos de entrenamiento:"
      ],
      "metadata": {
        "id": "tWF4p1zC2d7d"
      }
    },
    {
      "cell_type": "code",
      "source": [
        "# Crear instancia del árbol de decisión\n",
        "clf = DecisionTreeClassifier()\n",
        "\n",
        "# Entrenar el modelo\n",
        "clf.fit(X_train, y_train)"
      ],
      "metadata": {
        "id": "nhxtV3Xf2fyE",
        "colab": {
          "base_uri": "https://localhost:8080/",
          "height": 75
        },
        "outputId": "7832e5c5-ad6a-4cf5-df18-3f83ecf8d5eb"
      },
      "execution_count": null,
      "outputs": [
        {
          "output_type": "execute_result",
          "data": {
            "text/plain": [
              "DecisionTreeClassifier()"
            ],
            "text/html": [
              "<style>#sk-container-id-1 {color: black;background-color: white;}#sk-container-id-1 pre{padding: 0;}#sk-container-id-1 div.sk-toggleable {background-color: white;}#sk-container-id-1 label.sk-toggleable__label {cursor: pointer;display: block;width: 100%;margin-bottom: 0;padding: 0.3em;box-sizing: border-box;text-align: center;}#sk-container-id-1 label.sk-toggleable__label-arrow:before {content: \"▸\";float: left;margin-right: 0.25em;color: #696969;}#sk-container-id-1 label.sk-toggleable__label-arrow:hover:before {color: black;}#sk-container-id-1 div.sk-estimator:hover label.sk-toggleable__label-arrow:before {color: black;}#sk-container-id-1 div.sk-toggleable__content {max-height: 0;max-width: 0;overflow: hidden;text-align: left;background-color: #f0f8ff;}#sk-container-id-1 div.sk-toggleable__content pre {margin: 0.2em;color: black;border-radius: 0.25em;background-color: #f0f8ff;}#sk-container-id-1 input.sk-toggleable__control:checked~div.sk-toggleable__content {max-height: 200px;max-width: 100%;overflow: auto;}#sk-container-id-1 input.sk-toggleable__control:checked~label.sk-toggleable__label-arrow:before {content: \"▾\";}#sk-container-id-1 div.sk-estimator input.sk-toggleable__control:checked~label.sk-toggleable__label {background-color: #d4ebff;}#sk-container-id-1 div.sk-label input.sk-toggleable__control:checked~label.sk-toggleable__label {background-color: #d4ebff;}#sk-container-id-1 input.sk-hidden--visually {border: 0;clip: rect(1px 1px 1px 1px);clip: rect(1px, 1px, 1px, 1px);height: 1px;margin: -1px;overflow: hidden;padding: 0;position: absolute;width: 1px;}#sk-container-id-1 div.sk-estimator {font-family: monospace;background-color: #f0f8ff;border: 1px dotted black;border-radius: 0.25em;box-sizing: border-box;margin-bottom: 0.5em;}#sk-container-id-1 div.sk-estimator:hover {background-color: #d4ebff;}#sk-container-id-1 div.sk-parallel-item::after {content: \"\";width: 100%;border-bottom: 1px solid gray;flex-grow: 1;}#sk-container-id-1 div.sk-label:hover label.sk-toggleable__label {background-color: #d4ebff;}#sk-container-id-1 div.sk-serial::before {content: \"\";position: absolute;border-left: 1px solid gray;box-sizing: border-box;top: 0;bottom: 0;left: 50%;z-index: 0;}#sk-container-id-1 div.sk-serial {display: flex;flex-direction: column;align-items: center;background-color: white;padding-right: 0.2em;padding-left: 0.2em;position: relative;}#sk-container-id-1 div.sk-item {position: relative;z-index: 1;}#sk-container-id-1 div.sk-parallel {display: flex;align-items: stretch;justify-content: center;background-color: white;position: relative;}#sk-container-id-1 div.sk-item::before, #sk-container-id-1 div.sk-parallel-item::before {content: \"\";position: absolute;border-left: 1px solid gray;box-sizing: border-box;top: 0;bottom: 0;left: 50%;z-index: -1;}#sk-container-id-1 div.sk-parallel-item {display: flex;flex-direction: column;z-index: 1;position: relative;background-color: white;}#sk-container-id-1 div.sk-parallel-item:first-child::after {align-self: flex-end;width: 50%;}#sk-container-id-1 div.sk-parallel-item:last-child::after {align-self: flex-start;width: 50%;}#sk-container-id-1 div.sk-parallel-item:only-child::after {width: 0;}#sk-container-id-1 div.sk-dashed-wrapped {border: 1px dashed gray;margin: 0 0.4em 0.5em 0.4em;box-sizing: border-box;padding-bottom: 0.4em;background-color: white;}#sk-container-id-1 div.sk-label label {font-family: monospace;font-weight: bold;display: inline-block;line-height: 1.2em;}#sk-container-id-1 div.sk-label-container {text-align: center;}#sk-container-id-1 div.sk-container {/* jupyter's `normalize.less` sets `[hidden] { display: none; }` but bootstrap.min.css set `[hidden] { display: none !important; }` so we also need the `!important` here to be able to override the default hidden behavior on the sphinx rendered scikit-learn.org. See: https://github.com/scikit-learn/scikit-learn/issues/21755 */display: inline-block !important;position: relative;}#sk-container-id-1 div.sk-text-repr-fallback {display: none;}</style><div id=\"sk-container-id-1\" class=\"sk-top-container\"><div class=\"sk-text-repr-fallback\"><pre>DecisionTreeClassifier()</pre><b>In a Jupyter environment, please rerun this cell to show the HTML representation or trust the notebook. <br />On GitHub, the HTML representation is unable to render, please try loading this page with nbviewer.org.</b></div><div class=\"sk-container\" hidden><div class=\"sk-item\"><div class=\"sk-estimator sk-toggleable\"><input class=\"sk-toggleable__control sk-hidden--visually\" id=\"sk-estimator-id-1\" type=\"checkbox\" checked><label for=\"sk-estimator-id-1\" class=\"sk-toggleable__label sk-toggleable__label-arrow\">DecisionTreeClassifier</label><div class=\"sk-toggleable__content\"><pre>DecisionTreeClassifier()</pre></div></div></div></div></div>"
            ]
          },
          "metadata": {},
          "execution_count": 6
        }
      ]
    },
    {
      "cell_type": "markdown",
      "source": [
        "6. Realizar predicciones:\n",
        "Utilizen el modelo entrenado para hacer predicciones en nuevos datos:"
      ],
      "metadata": {
        "id": "VJK3JVIm2lSG"
      }
    },
    {
      "cell_type": "code",
      "source": [
        "# Realizar predicciones en los datos de prueba\n",
        "y_pred = clf.predict(X_test)"
      ],
      "metadata": {
        "id": "TBMR2JLd2n5Z"
      },
      "execution_count": null,
      "outputs": []
    },
    {
      "cell_type": "markdown",
      "source": [
        "7. Evaluar el modelo: Evalúen el rendimiento del modelo utilizando métricas como precisión, recall, puntaje F1 o cualquier otra métrica relevante para el problema:"
      ],
      "metadata": {
        "id": "toENtHE32q3M"
      }
    },
    {
      "cell_type": "code",
      "source": [
        "# Calcular precisión del modelo\n",
        "accuracy = accuracy_score(y_test, y_pred)\n",
        "print(\"Precisión del modelo:\", accuracy)"
      ],
      "metadata": {
        "id": "cjKGVMXp2s-O",
        "colab": {
          "base_uri": "https://localhost:8080/"
        },
        "outputId": "d7fc3af8-3283-4e4c-8322-9e70f6381724"
      },
      "execution_count": null,
      "outputs": [
        {
          "output_type": "stream",
          "name": "stdout",
          "text": [
            "Precisión del modelo: 1.0\n"
          ]
        }
      ]
    },
    {
      "cell_type": "markdown",
      "source": [
        "Este es un ejemplo básico de cómo programar un árbol de decisión en Python utilizando scikit-learn. Pueden personalizarlo según sus necesidades específicas, como ajustar los hiperparámetros del árbol de decisión o utilizar diferentes métricas de evaluación.\n",
        "\n",
        "### Ejemplo Básico Completo\n",
        "\n",
        "Supongamos que tienes un conjunto de datos de flores con características como longitud y ancho del sépalo y pétalo, y la etiqueta de la especie de la flor (por ejemplo, setosa, versicolor o virginica). Queremos construir un modelo de árbol de decisión para clasificar las flores en base a estas características."
      ],
      "metadata": {
        "id": "QHaMFyDP20DA"
      }
    },
    {
      "cell_type": "code",
      "source": [
        "from sklearn.datasets import load_iris\n",
        "from sklearn.tree import DecisionTreeClassifier\n",
        "from sklearn.model_selection import train_test_split\n",
        "from sklearn.metrics import accuracy_score, classification_report\n",
        "\n",
        "# Cargar el conjunto de datos de flores Iris\n",
        "data = pd.read_csv('/content/Iris.csv')\n",
        "X = data[['PetalLengthCm','PetalWidthCm','SepalWidthCm','SepalLengthCm']]  # Características\n",
        "y = data[['Species']]  # Etiquetas\n",
        "\n",
        "# Dividir los datos en conjuntos de entrenamiento y prueba\n",
        "X_train, X_test, y_train, y_test = train_test_split(X, y, test_size=0.2, random_state=42)\n",
        "\n",
        "# Crear una instancia del clasificador de árbol de decisión\n",
        "clf = DecisionTreeClassifier()\n",
        "\n",
        "# Entrenar el modelo\n",
        "clf.fit(X_train, y_train)\n",
        "\n",
        "# Realizar predicciones en los datos de prueba\n",
        "y_pred = clf.predict(X_test)\n",
        "\n",
        "# Calcular la precisión del modelo\n",
        "accuracy = accuracy_score(y_test, y_pred)\n",
        "print(\"Precisión del modelo:\", accuracy)\n",
        "\n",
        "# Imprimir el reporte de clasificación\n",
        "target_names = ['Iris-setosa','Iris-versicolor','Iris-virginica']\n",
        "print(classification_report(y_test, y_pred, target_names=target_names))"
      ],
      "metadata": {
        "id": "fZdtZNG83D_J",
        "colab": {
          "base_uri": "https://localhost:8080/"
        },
        "outputId": "29de40af-c062-4eb7-b1dd-932397935356"
      },
      "execution_count": null,
      "outputs": [
        {
          "output_type": "stream",
          "name": "stdout",
          "text": [
            "Precisión del modelo: 1.0\n",
            "                 precision    recall  f1-score   support\n",
            "\n",
            "    Iris-setosa       1.00      1.00      1.00        10\n",
            "Iris-versicolor       1.00      1.00      1.00         9\n",
            " Iris-virginica       1.00      1.00      1.00        11\n",
            "\n",
            "       accuracy                           1.00        30\n",
            "      macro avg       1.00      1.00      1.00        30\n",
            "   weighted avg       1.00      1.00      1.00        30\n",
            "\n"
          ]
        }
      ]
    },
    {
      "cell_type": "markdown",
      "source": [
        "En este ejemplo, utilizamos el conjunto de datos de flores Iris de scikit-learn. Cargamos las características en `X` y las etiquetas en `y`. Luego, dividimos los datos en conjuntos de entrenamiento y prueba utilizando la función `train_test_split`.\n",
        "\n",
        "Creamos una instancia del clasificador `DecisionTreeClassifier` y lo entrenamos utilizando los datos de entrenamiento. A continuación, realizamos predicciones en los datos de prueba utilizando el método `predict` del clasificador entrenado.\n",
        "\n",
        "Calculamos la precisión del modelo comparando las etiquetas reales (`y_test`) con las etiquetas predichas (`y_pred`) utilizando la métrica `accuracy_score`. Luego imprimimos la precisión del modelo.\n",
        "\n",
        "Además, utilizamos la función `classification_report` de scikit-learn para obtener un reporte detallado de la clasificación, que incluye precisiones, exhaustividades, puntajes F1 y soporte para cada clase. Imprimimos este reporte utilizando los nombres de las clases del conjunto de datos.\n",
        "\n",
        "Esto dará una idea más completa de cómo se desempeña el modelo en cada clase y qué métricas son relevantes en la evaluación.\n",
        "\n",
        "Recuerden que este ejemplo utiliza el conjunto de datos Iris para ilustrar el uso del algoritmo de árbol de decisión. Pueden aplicar un enfoque similar utilizando otros conjuntos de datos y adaptarlo."
      ],
      "metadata": {
        "id": "jjc-uazv3XSh"
      }
    },
    {
      "cell_type": "markdown",
      "source": [
        "##Graficar el Árbol de Decisión\n",
        "\n",
        "Para imprimir el árbol de decisión final creado para un dataset en Python, pueden utilizar la función `export_graphviz` de scikit-learn junto con la biblioteca `graphviz` para generar una representación visual del árbol. Aquí tienen un ejemplo de cómo hacerlo:\n",
        "\n",
        "1. Instalar la biblioteca graphviz si aún no la tienen instalada. Pueden instalarla utilizando pip (De nuevo, solamente fuera de Colaboratory):\n",
        "\n",
        "```\n",
        "pip install graphviz\n",
        "```\n",
        "\n",
        "2. Importar las bibliotecas necesarias:"
      ],
      "metadata": {
        "id": "JojPdUqA30tr"
      }
    },
    {
      "cell_type": "code",
      "source": [
        "from sklearn.datasets import load_iris\n",
        "from sklearn.tree import DecisionTreeClassifier\n",
        "from sklearn.tree import export_graphviz\n",
        "import graphviz"
      ],
      "metadata": {
        "id": "taBpo91A4Q6v"
      },
      "execution_count": null,
      "outputs": []
    },
    {
      "cell_type": "markdown",
      "source": [
        "3. Carga tu conjunto de datos. En este ejemplo, utilizaremos el conjunto de datos de flores Iris:"
      ],
      "metadata": {
        "id": "T2yaw_TO4THB"
      }
    },
    {
      "cell_type": "code",
      "source": [
        "data = pd.read_csv('/content/Iris.csv')\n",
        "X = data[['PetalLengthCm','PetalWidthCm','SepalWidthCm','SepalLengthCm']]\n",
        "y = data[['Species']]"
      ],
      "metadata": {
        "id": "xhucKaFy4VtE"
      },
      "execution_count": null,
      "outputs": []
    },
    {
      "cell_type": "markdown",
      "source": [
        "4. Crea una instancia del clasificador de árbol de decisión y ajústenlo a sus datos:"
      ],
      "metadata": {
        "id": "eSzbHKIf4X4S"
      }
    },
    {
      "cell_type": "code",
      "source": [
        "clf = DecisionTreeClassifier()\n",
        "clf.fit(X, y)"
      ],
      "metadata": {
        "id": "uPMpszi94ZVO",
        "colab": {
          "base_uri": "https://localhost:8080/",
          "height": 75
        },
        "outputId": "349cf569-f43f-4139-cf69-db0f5444cb55"
      },
      "execution_count": null,
      "outputs": [
        {
          "output_type": "execute_result",
          "data": {
            "text/plain": [
              "DecisionTreeClassifier()"
            ],
            "text/html": [
              "<style>#sk-container-id-2 {color: black;background-color: white;}#sk-container-id-2 pre{padding: 0;}#sk-container-id-2 div.sk-toggleable {background-color: white;}#sk-container-id-2 label.sk-toggleable__label {cursor: pointer;display: block;width: 100%;margin-bottom: 0;padding: 0.3em;box-sizing: border-box;text-align: center;}#sk-container-id-2 label.sk-toggleable__label-arrow:before {content: \"▸\";float: left;margin-right: 0.25em;color: #696969;}#sk-container-id-2 label.sk-toggleable__label-arrow:hover:before {color: black;}#sk-container-id-2 div.sk-estimator:hover label.sk-toggleable__label-arrow:before {color: black;}#sk-container-id-2 div.sk-toggleable__content {max-height: 0;max-width: 0;overflow: hidden;text-align: left;background-color: #f0f8ff;}#sk-container-id-2 div.sk-toggleable__content pre {margin: 0.2em;color: black;border-radius: 0.25em;background-color: #f0f8ff;}#sk-container-id-2 input.sk-toggleable__control:checked~div.sk-toggleable__content {max-height: 200px;max-width: 100%;overflow: auto;}#sk-container-id-2 input.sk-toggleable__control:checked~label.sk-toggleable__label-arrow:before {content: \"▾\";}#sk-container-id-2 div.sk-estimator input.sk-toggleable__control:checked~label.sk-toggleable__label {background-color: #d4ebff;}#sk-container-id-2 div.sk-label input.sk-toggleable__control:checked~label.sk-toggleable__label {background-color: #d4ebff;}#sk-container-id-2 input.sk-hidden--visually {border: 0;clip: rect(1px 1px 1px 1px);clip: rect(1px, 1px, 1px, 1px);height: 1px;margin: -1px;overflow: hidden;padding: 0;position: absolute;width: 1px;}#sk-container-id-2 div.sk-estimator {font-family: monospace;background-color: #f0f8ff;border: 1px dotted black;border-radius: 0.25em;box-sizing: border-box;margin-bottom: 0.5em;}#sk-container-id-2 div.sk-estimator:hover {background-color: #d4ebff;}#sk-container-id-2 div.sk-parallel-item::after {content: \"\";width: 100%;border-bottom: 1px solid gray;flex-grow: 1;}#sk-container-id-2 div.sk-label:hover label.sk-toggleable__label {background-color: #d4ebff;}#sk-container-id-2 div.sk-serial::before {content: \"\";position: absolute;border-left: 1px solid gray;box-sizing: border-box;top: 0;bottom: 0;left: 50%;z-index: 0;}#sk-container-id-2 div.sk-serial {display: flex;flex-direction: column;align-items: center;background-color: white;padding-right: 0.2em;padding-left: 0.2em;position: relative;}#sk-container-id-2 div.sk-item {position: relative;z-index: 1;}#sk-container-id-2 div.sk-parallel {display: flex;align-items: stretch;justify-content: center;background-color: white;position: relative;}#sk-container-id-2 div.sk-item::before, #sk-container-id-2 div.sk-parallel-item::before {content: \"\";position: absolute;border-left: 1px solid gray;box-sizing: border-box;top: 0;bottom: 0;left: 50%;z-index: -1;}#sk-container-id-2 div.sk-parallel-item {display: flex;flex-direction: column;z-index: 1;position: relative;background-color: white;}#sk-container-id-2 div.sk-parallel-item:first-child::after {align-self: flex-end;width: 50%;}#sk-container-id-2 div.sk-parallel-item:last-child::after {align-self: flex-start;width: 50%;}#sk-container-id-2 div.sk-parallel-item:only-child::after {width: 0;}#sk-container-id-2 div.sk-dashed-wrapped {border: 1px dashed gray;margin: 0 0.4em 0.5em 0.4em;box-sizing: border-box;padding-bottom: 0.4em;background-color: white;}#sk-container-id-2 div.sk-label label {font-family: monospace;font-weight: bold;display: inline-block;line-height: 1.2em;}#sk-container-id-2 div.sk-label-container {text-align: center;}#sk-container-id-2 div.sk-container {/* jupyter's `normalize.less` sets `[hidden] { display: none; }` but bootstrap.min.css set `[hidden] { display: none !important; }` so we also need the `!important` here to be able to override the default hidden behavior on the sphinx rendered scikit-learn.org. See: https://github.com/scikit-learn/scikit-learn/issues/21755 */display: inline-block !important;position: relative;}#sk-container-id-2 div.sk-text-repr-fallback {display: none;}</style><div id=\"sk-container-id-2\" class=\"sk-top-container\"><div class=\"sk-text-repr-fallback\"><pre>DecisionTreeClassifier()</pre><b>In a Jupyter environment, please rerun this cell to show the HTML representation or trust the notebook. <br />On GitHub, the HTML representation is unable to render, please try loading this page with nbviewer.org.</b></div><div class=\"sk-container\" hidden><div class=\"sk-item\"><div class=\"sk-estimator sk-toggleable\"><input class=\"sk-toggleable__control sk-hidden--visually\" id=\"sk-estimator-id-2\" type=\"checkbox\" checked><label for=\"sk-estimator-id-2\" class=\"sk-toggleable__label sk-toggleable__label-arrow\">DecisionTreeClassifier</label><div class=\"sk-toggleable__content\"><pre>DecisionTreeClassifier()</pre></div></div></div></div></div>"
            ]
          },
          "metadata": {},
          "execution_count": 12
        }
      ]
    },
    {
      "cell_type": "markdown",
      "source": [
        "5. Generar una representación gráfica del árbol de decisión utilizando `export_graphviz` y `graphviz`:"
      ],
      "metadata": {
        "id": "O2SA3tpj4ceY"
      }
    },
    {
      "cell_type": "code",
      "source": [
        "dot_data = export_graphviz(clf, out_file=None,\n",
        "                           feature_names=['PetalLengthCm','PetalWidthCm','SepalWidthCm','SepalLengthCm'],\n",
        "                           class_names=['Iris-setosa','Iris-versicolor','Iris-virginica'],\n",
        "                           filled=True, rounded=True,\n",
        "                           special_characters=True)\n",
        "\n",
        "graph = graphviz.Source(dot_data)\n",
        "\n",
        "graph.render(\"arbol_decision\")  # Guarda el árbol en un archivo en formato PDF\n",
        "\n",
        "# También puedes mostrar el árbol directamente en el notebook\n",
        "graph"
      ],
      "metadata": {
        "id": "XIWvWGXZ4hB2",
        "colab": {
          "base_uri": "https://localhost:8080/",
          "height": 916
        },
        "outputId": "d7873381-bec0-4703-b5bf-7d4a6e8e02a5"
      },
      "execution_count": null,
      "outputs": [
        {
          "output_type": "execute_result",
          "data": {
            "image/svg+xml": "<?xml version=\"1.0\" encoding=\"UTF-8\" standalone=\"no\"?>\n<!DOCTYPE svg PUBLIC \"-//W3C//DTD SVG 1.1//EN\"\n \"http://www.w3.org/Graphics/SVG/1.1/DTD/svg11.dtd\">\n<!-- Generated by graphviz version 2.43.0 (0)\n -->\n<!-- Title: Tree Pages: 1 -->\n<svg width=\"942pt\" height=\"671pt\"\n viewBox=\"0.00 0.00 942.00 671.00\" xmlns=\"http://www.w3.org/2000/svg\" xmlns:xlink=\"http://www.w3.org/1999/xlink\">\n<g id=\"graph0\" class=\"graph\" transform=\"scale(1 1) rotate(0) translate(4 667)\">\n<title>Tree</title>\n<polygon fill=\"white\" stroke=\"transparent\" points=\"-4,4 -4,-667 938,-667 938,4 -4,4\"/>\n<!-- 0 -->\n<g id=\"node1\" class=\"node\">\n<title>0</title>\n<path fill=\"#ffffff\" stroke=\"black\" d=\"M564.5,-663C564.5,-663 450.5,-663 450.5,-663 444.5,-663 438.5,-657 438.5,-651 438.5,-651 438.5,-592 438.5,-592 438.5,-586 444.5,-580 450.5,-580 450.5,-580 564.5,-580 564.5,-580 570.5,-580 576.5,-586 576.5,-592 576.5,-592 576.5,-651 576.5,-651 576.5,-657 570.5,-663 564.5,-663\"/>\n<text text-anchor=\"start\" x=\"446.5\" y=\"-647.8\" font-family=\"Helvetica,sans-Serif\" font-size=\"14.00\">PetalWidthCm ≤ 0.8</text>\n<text text-anchor=\"start\" x=\"472\" y=\"-632.8\" font-family=\"Helvetica,sans-Serif\" font-size=\"14.00\">gini = 0.667</text>\n<text text-anchor=\"start\" x=\"462.5\" y=\"-617.8\" font-family=\"Helvetica,sans-Serif\" font-size=\"14.00\">samples = 150</text>\n<text text-anchor=\"start\" x=\"449.5\" y=\"-602.8\" font-family=\"Helvetica,sans-Serif\" font-size=\"14.00\">value = [50, 50, 50]</text>\n<text text-anchor=\"start\" x=\"453\" y=\"-587.8\" font-family=\"Helvetica,sans-Serif\" font-size=\"14.00\">class = Iris&#45;setosa</text>\n</g>\n<!-- 1 -->\n<g id=\"node2\" class=\"node\">\n<title>1</title>\n<path fill=\"#e58139\" stroke=\"black\" d=\"M481,-536.5C481,-536.5 380,-536.5 380,-536.5 374,-536.5 368,-530.5 368,-524.5 368,-524.5 368,-480.5 368,-480.5 368,-474.5 374,-468.5 380,-468.5 380,-468.5 481,-468.5 481,-468.5 487,-468.5 493,-474.5 493,-480.5 493,-480.5 493,-524.5 493,-524.5 493,-530.5 487,-536.5 481,-536.5\"/>\n<text text-anchor=\"start\" x=\"402.5\" y=\"-521.3\" font-family=\"Helvetica,sans-Serif\" font-size=\"14.00\">gini = 0.0</text>\n<text text-anchor=\"start\" x=\"389.5\" y=\"-506.3\" font-family=\"Helvetica,sans-Serif\" font-size=\"14.00\">samples = 50</text>\n<text text-anchor=\"start\" x=\"380\" y=\"-491.3\" font-family=\"Helvetica,sans-Serif\" font-size=\"14.00\">value = [50, 0, 0]</text>\n<text text-anchor=\"start\" x=\"376\" y=\"-476.3\" font-family=\"Helvetica,sans-Serif\" font-size=\"14.00\">class = Iris&#45;setosa</text>\n</g>\n<!-- 0&#45;&gt;1 -->\n<g id=\"edge1\" class=\"edge\">\n<title>0&#45;&gt;1</title>\n<path fill=\"none\" stroke=\"black\" d=\"M480.79,-579.91C473.38,-568.65 465.33,-556.42 457.88,-545.11\"/>\n<polygon fill=\"black\" stroke=\"black\" points=\"460.75,-543.1 452.33,-536.67 454.9,-546.94 460.75,-543.1\"/>\n<text text-anchor=\"middle\" x=\"447.28\" y=\"-557.45\" font-family=\"Helvetica,sans-Serif\" font-size=\"14.00\">True</text>\n</g>\n<!-- 2 -->\n<g id=\"node3\" class=\"node\">\n<title>2</title>\n<path fill=\"#ffffff\" stroke=\"black\" d=\"M645.5,-544C645.5,-544 523.5,-544 523.5,-544 517.5,-544 511.5,-538 511.5,-532 511.5,-532 511.5,-473 511.5,-473 511.5,-467 517.5,-461 523.5,-461 523.5,-461 645.5,-461 645.5,-461 651.5,-461 657.5,-467 657.5,-473 657.5,-473 657.5,-532 657.5,-532 657.5,-538 651.5,-544 645.5,-544\"/>\n<text text-anchor=\"start\" x=\"519.5\" y=\"-528.8\" font-family=\"Helvetica,sans-Serif\" font-size=\"14.00\">PetalWidthCm ≤ 1.75</text>\n<text text-anchor=\"start\" x=\"556.5\" y=\"-513.8\" font-family=\"Helvetica,sans-Serif\" font-size=\"14.00\">gini = 0.5</text>\n<text text-anchor=\"start\" x=\"539.5\" y=\"-498.8\" font-family=\"Helvetica,sans-Serif\" font-size=\"14.00\">samples = 100</text>\n<text text-anchor=\"start\" x=\"530\" y=\"-483.8\" font-family=\"Helvetica,sans-Serif\" font-size=\"14.00\">value = [0, 50, 50]</text>\n<text text-anchor=\"start\" x=\"521\" y=\"-468.8\" font-family=\"Helvetica,sans-Serif\" font-size=\"14.00\">class = Iris&#45;versicolor</text>\n</g>\n<!-- 0&#45;&gt;2 -->\n<g id=\"edge2\" class=\"edge\">\n<title>0&#45;&gt;2</title>\n<path fill=\"none\" stroke=\"black\" d=\"M534.21,-579.91C540.01,-571.1 546.2,-561.7 552.18,-552.61\"/>\n<polygon fill=\"black\" stroke=\"black\" points=\"555.26,-554.3 557.83,-544.02 549.41,-550.45 555.26,-554.3\"/>\n<text text-anchor=\"middle\" x=\"562.88\" y=\"-564.81\" font-family=\"Helvetica,sans-Serif\" font-size=\"14.00\">False</text>\n</g>\n<!-- 3 -->\n<g id=\"node4\" class=\"node\">\n<title>3</title>\n<path fill=\"#4de88e\" stroke=\"black\" d=\"M527.5,-425C527.5,-425 399.5,-425 399.5,-425 393.5,-425 387.5,-419 387.5,-413 387.5,-413 387.5,-354 387.5,-354 387.5,-348 393.5,-342 399.5,-342 399.5,-342 527.5,-342 527.5,-342 533.5,-342 539.5,-348 539.5,-354 539.5,-354 539.5,-413 539.5,-413 539.5,-419 533.5,-425 527.5,-425\"/>\n<text text-anchor=\"start\" x=\"395.5\" y=\"-409.8\" font-family=\"Helvetica,sans-Serif\" font-size=\"14.00\">PetalLengthCm ≤ 4.95</text>\n<text text-anchor=\"start\" x=\"428\" y=\"-394.8\" font-family=\"Helvetica,sans-Serif\" font-size=\"14.00\">gini = 0.168</text>\n<text text-anchor=\"start\" x=\"422.5\" y=\"-379.8\" font-family=\"Helvetica,sans-Serif\" font-size=\"14.00\">samples = 54</text>\n<text text-anchor=\"start\" x=\"413\" y=\"-364.8\" font-family=\"Helvetica,sans-Serif\" font-size=\"14.00\">value = [0, 49, 5]</text>\n<text text-anchor=\"start\" x=\"400\" y=\"-349.8\" font-family=\"Helvetica,sans-Serif\" font-size=\"14.00\">class = Iris&#45;versicolor</text>\n</g>\n<!-- 2&#45;&gt;3 -->\n<g id=\"edge3\" class=\"edge\">\n<title>2&#45;&gt;3</title>\n<path fill=\"none\" stroke=\"black\" d=\"M542.52,-460.91C532.95,-451.65 522.69,-441.73 512.84,-432.21\"/>\n<polygon fill=\"black\" stroke=\"black\" points=\"515.03,-429.46 505.41,-425.02 510.16,-434.49 515.03,-429.46\"/>\n</g>\n<!-- 12 -->\n<g id=\"node13\" class=\"node\">\n<title>12</title>\n<path fill=\"#843de6\" stroke=\"black\" d=\"M769.5,-425C769.5,-425 641.5,-425 641.5,-425 635.5,-425 629.5,-419 629.5,-413 629.5,-413 629.5,-354 629.5,-354 629.5,-348 635.5,-342 641.5,-342 641.5,-342 769.5,-342 769.5,-342 775.5,-342 781.5,-348 781.5,-354 781.5,-354 781.5,-413 781.5,-413 781.5,-419 775.5,-425 769.5,-425\"/>\n<text text-anchor=\"start\" x=\"637.5\" y=\"-409.8\" font-family=\"Helvetica,sans-Serif\" font-size=\"14.00\">PetalLengthCm ≤ 4.85</text>\n<text text-anchor=\"start\" x=\"670\" y=\"-394.8\" font-family=\"Helvetica,sans-Serif\" font-size=\"14.00\">gini = 0.043</text>\n<text text-anchor=\"start\" x=\"664.5\" y=\"-379.8\" font-family=\"Helvetica,sans-Serif\" font-size=\"14.00\">samples = 46</text>\n<text text-anchor=\"start\" x=\"655\" y=\"-364.8\" font-family=\"Helvetica,sans-Serif\" font-size=\"14.00\">value = [0, 1, 45]</text>\n<text text-anchor=\"start\" x=\"646\" y=\"-349.8\" font-family=\"Helvetica,sans-Serif\" font-size=\"14.00\">class = Iris&#45;virginica</text>\n</g>\n<!-- 2&#45;&gt;12 -->\n<g id=\"edge12\" class=\"edge\">\n<title>2&#45;&gt;12</title>\n<path fill=\"none\" stroke=\"black\" d=\"M626.48,-460.91C636.05,-451.65 646.31,-441.73 656.16,-432.21\"/>\n<polygon fill=\"black\" stroke=\"black\" points=\"658.84,-434.49 663.59,-425.02 653.97,-429.46 658.84,-434.49\"/>\n</g>\n<!-- 4 -->\n<g id=\"node5\" class=\"node\">\n<title>4</title>\n<path fill=\"#3de684\" stroke=\"black\" d=\"M289.5,-306C289.5,-306 167.5,-306 167.5,-306 161.5,-306 155.5,-300 155.5,-294 155.5,-294 155.5,-235 155.5,-235 155.5,-229 161.5,-223 167.5,-223 167.5,-223 289.5,-223 289.5,-223 295.5,-223 301.5,-229 301.5,-235 301.5,-235 301.5,-294 301.5,-294 301.5,-300 295.5,-306 289.5,-306\"/>\n<text text-anchor=\"start\" x=\"163.5\" y=\"-290.8\" font-family=\"Helvetica,sans-Serif\" font-size=\"14.00\">PetalWidthCm ≤ 1.65</text>\n<text text-anchor=\"start\" x=\"193\" y=\"-275.8\" font-family=\"Helvetica,sans-Serif\" font-size=\"14.00\">gini = 0.041</text>\n<text text-anchor=\"start\" x=\"187.5\" y=\"-260.8\" font-family=\"Helvetica,sans-Serif\" font-size=\"14.00\">samples = 48</text>\n<text text-anchor=\"start\" x=\"178\" y=\"-245.8\" font-family=\"Helvetica,sans-Serif\" font-size=\"14.00\">value = [0, 47, 1]</text>\n<text text-anchor=\"start\" x=\"165\" y=\"-230.8\" font-family=\"Helvetica,sans-Serif\" font-size=\"14.00\">class = Iris&#45;versicolor</text>\n</g>\n<!-- 3&#45;&gt;4 -->\n<g id=\"edge4\" class=\"edge\">\n<title>3&#45;&gt;4</title>\n<path fill=\"none\" stroke=\"black\" d=\"M387.2,-344.51C362.73,-332.33 335.53,-318.79 310.66,-306.41\"/>\n<polygon fill=\"black\" stroke=\"black\" points=\"312.13,-303.23 301.62,-301.9 309.01,-309.49 312.13,-303.23\"/>\n</g>\n<!-- 7 -->\n<g id=\"node8\" class=\"node\">\n<title>7</title>\n<path fill=\"#c09cf2\" stroke=\"black\" d=\"M524.5,-306C524.5,-306 402.5,-306 402.5,-306 396.5,-306 390.5,-300 390.5,-294 390.5,-294 390.5,-235 390.5,-235 390.5,-229 396.5,-223 402.5,-223 402.5,-223 524.5,-223 524.5,-223 530.5,-223 536.5,-229 536.5,-235 536.5,-235 536.5,-294 536.5,-294 536.5,-300 530.5,-306 524.5,-306\"/>\n<text text-anchor=\"start\" x=\"398.5\" y=\"-290.8\" font-family=\"Helvetica,sans-Serif\" font-size=\"14.00\">PetalWidthCm ≤ 1.55</text>\n<text text-anchor=\"start\" x=\"428\" y=\"-275.8\" font-family=\"Helvetica,sans-Serif\" font-size=\"14.00\">gini = 0.444</text>\n<text text-anchor=\"start\" x=\"426\" y=\"-260.8\" font-family=\"Helvetica,sans-Serif\" font-size=\"14.00\">samples = 6</text>\n<text text-anchor=\"start\" x=\"416.5\" y=\"-245.8\" font-family=\"Helvetica,sans-Serif\" font-size=\"14.00\">value = [0, 2, 4]</text>\n<text text-anchor=\"start\" x=\"404\" y=\"-230.8\" font-family=\"Helvetica,sans-Serif\" font-size=\"14.00\">class = Iris&#45;virginica</text>\n</g>\n<!-- 3&#45;&gt;7 -->\n<g id=\"edge7\" class=\"edge\">\n<title>3&#45;&gt;7</title>\n<path fill=\"none\" stroke=\"black\" d=\"M463.5,-341.91C463.5,-333.65 463.5,-324.86 463.5,-316.3\"/>\n<polygon fill=\"black\" stroke=\"black\" points=\"467,-316.02 463.5,-306.02 460,-316.02 467,-316.02\"/>\n</g>\n<!-- 5 -->\n<g id=\"node6\" class=\"node\">\n<title>5</title>\n<path fill=\"#39e581\" stroke=\"black\" d=\"M131,-179.5C131,-179.5 12,-179.5 12,-179.5 6,-179.5 0,-173.5 0,-167.5 0,-167.5 0,-123.5 0,-123.5 0,-117.5 6,-111.5 12,-111.5 12,-111.5 131,-111.5 131,-111.5 137,-111.5 143,-117.5 143,-123.5 143,-123.5 143,-167.5 143,-167.5 143,-173.5 137,-179.5 131,-179.5\"/>\n<text text-anchor=\"start\" x=\"43.5\" y=\"-164.3\" font-family=\"Helvetica,sans-Serif\" font-size=\"14.00\">gini = 0.0</text>\n<text text-anchor=\"start\" x=\"30.5\" y=\"-149.3\" font-family=\"Helvetica,sans-Serif\" font-size=\"14.00\">samples = 47</text>\n<text text-anchor=\"start\" x=\"21\" y=\"-134.3\" font-family=\"Helvetica,sans-Serif\" font-size=\"14.00\">value = [0, 47, 0]</text>\n<text text-anchor=\"start\" x=\"8\" y=\"-119.3\" font-family=\"Helvetica,sans-Serif\" font-size=\"14.00\">class = Iris&#45;versicolor</text>\n</g>\n<!-- 4&#45;&gt;5 -->\n<g id=\"edge5\" class=\"edge\">\n<title>4&#45;&gt;5</title>\n<path fill=\"none\" stroke=\"black\" d=\"M174.03,-222.91C157.89,-210.88 140.25,-197.73 124.22,-185.79\"/>\n<polygon fill=\"black\" stroke=\"black\" points=\"126.12,-182.84 116.01,-179.67 121.93,-188.45 126.12,-182.84\"/>\n</g>\n<!-- 6 -->\n<g id=\"node7\" class=\"node\">\n<title>6</title>\n<path fill=\"#8139e5\" stroke=\"black\" d=\"M284,-179.5C284,-179.5 173,-179.5 173,-179.5 167,-179.5 161,-173.5 161,-167.5 161,-167.5 161,-123.5 161,-123.5 161,-117.5 167,-111.5 173,-111.5 173,-111.5 284,-111.5 284,-111.5 290,-111.5 296,-117.5 296,-123.5 296,-123.5 296,-167.5 296,-167.5 296,-173.5 290,-179.5 284,-179.5\"/>\n<text text-anchor=\"start\" x=\"200.5\" y=\"-164.3\" font-family=\"Helvetica,sans-Serif\" font-size=\"14.00\">gini = 0.0</text>\n<text text-anchor=\"start\" x=\"191\" y=\"-149.3\" font-family=\"Helvetica,sans-Serif\" font-size=\"14.00\">samples = 1</text>\n<text text-anchor=\"start\" x=\"181.5\" y=\"-134.3\" font-family=\"Helvetica,sans-Serif\" font-size=\"14.00\">value = [0, 0, 1]</text>\n<text text-anchor=\"start\" x=\"169\" y=\"-119.3\" font-family=\"Helvetica,sans-Serif\" font-size=\"14.00\">class = Iris&#45;virginica</text>\n</g>\n<!-- 4&#45;&gt;6 -->\n<g id=\"edge6\" class=\"edge\">\n<title>4&#45;&gt;6</title>\n<path fill=\"none\" stroke=\"black\" d=\"M228.5,-222.91C228.5,-212.2 228.5,-200.62 228.5,-189.78\"/>\n<polygon fill=\"black\" stroke=\"black\" points=\"232,-189.67 228.5,-179.67 225,-189.67 232,-189.67\"/>\n</g>\n<!-- 8 -->\n<g id=\"node9\" class=\"node\">\n<title>8</title>\n<path fill=\"#8139e5\" stroke=\"black\" d=\"M437,-179.5C437,-179.5 326,-179.5 326,-179.5 320,-179.5 314,-173.5 314,-167.5 314,-167.5 314,-123.5 314,-123.5 314,-117.5 320,-111.5 326,-111.5 326,-111.5 437,-111.5 437,-111.5 443,-111.5 449,-117.5 449,-123.5 449,-123.5 449,-167.5 449,-167.5 449,-173.5 443,-179.5 437,-179.5\"/>\n<text text-anchor=\"start\" x=\"353.5\" y=\"-164.3\" font-family=\"Helvetica,sans-Serif\" font-size=\"14.00\">gini = 0.0</text>\n<text text-anchor=\"start\" x=\"344\" y=\"-149.3\" font-family=\"Helvetica,sans-Serif\" font-size=\"14.00\">samples = 3</text>\n<text text-anchor=\"start\" x=\"334.5\" y=\"-134.3\" font-family=\"Helvetica,sans-Serif\" font-size=\"14.00\">value = [0, 0, 3]</text>\n<text text-anchor=\"start\" x=\"322\" y=\"-119.3\" font-family=\"Helvetica,sans-Serif\" font-size=\"14.00\">class = Iris&#45;virginica</text>\n</g>\n<!-- 7&#45;&gt;8 -->\n<g id=\"edge8\" class=\"edge\">\n<title>7&#45;&gt;8</title>\n<path fill=\"none\" stroke=\"black\" d=\"M435.05,-222.91C427.16,-211.65 418.59,-199.42 410.66,-188.11\"/>\n<polygon fill=\"black\" stroke=\"black\" points=\"413.35,-185.85 404.75,-179.67 407.62,-189.86 413.35,-185.85\"/>\n</g>\n<!-- 9 -->\n<g id=\"node10\" class=\"node\">\n<title>9</title>\n<path fill=\"#9cf2c0\" stroke=\"black\" d=\"M607.5,-187C607.5,-187 479.5,-187 479.5,-187 473.5,-187 467.5,-181 467.5,-175 467.5,-175 467.5,-116 467.5,-116 467.5,-110 473.5,-104 479.5,-104 479.5,-104 607.5,-104 607.5,-104 613.5,-104 619.5,-110 619.5,-116 619.5,-116 619.5,-175 619.5,-175 619.5,-181 613.5,-187 607.5,-187\"/>\n<text text-anchor=\"start\" x=\"475.5\" y=\"-171.8\" font-family=\"Helvetica,sans-Serif\" font-size=\"14.00\">PetalLengthCm ≤ 5.45</text>\n<text text-anchor=\"start\" x=\"508\" y=\"-156.8\" font-family=\"Helvetica,sans-Serif\" font-size=\"14.00\">gini = 0.444</text>\n<text text-anchor=\"start\" x=\"506\" y=\"-141.8\" font-family=\"Helvetica,sans-Serif\" font-size=\"14.00\">samples = 3</text>\n<text text-anchor=\"start\" x=\"496.5\" y=\"-126.8\" font-family=\"Helvetica,sans-Serif\" font-size=\"14.00\">value = [0, 2, 1]</text>\n<text text-anchor=\"start\" x=\"480\" y=\"-111.8\" font-family=\"Helvetica,sans-Serif\" font-size=\"14.00\">class = Iris&#45;versicolor</text>\n</g>\n<!-- 7&#45;&gt;9 -->\n<g id=\"edge9\" class=\"edge\">\n<title>7&#45;&gt;9</title>\n<path fill=\"none\" stroke=\"black\" d=\"M491.26,-222.91C497.34,-214.01 503.84,-204.51 510.11,-195.33\"/>\n<polygon fill=\"black\" stroke=\"black\" points=\"513.04,-197.25 515.79,-187.02 507.26,-193.3 513.04,-197.25\"/>\n</g>\n<!-- 10 -->\n<g id=\"node11\" class=\"node\">\n<title>10</title>\n<path fill=\"#39e581\" stroke=\"black\" d=\"M524,-68C524,-68 405,-68 405,-68 399,-68 393,-62 393,-56 393,-56 393,-12 393,-12 393,-6 399,0 405,0 405,0 524,0 524,0 530,0 536,-6 536,-12 536,-12 536,-56 536,-56 536,-62 530,-68 524,-68\"/>\n<text text-anchor=\"start\" x=\"436.5\" y=\"-52.8\" font-family=\"Helvetica,sans-Serif\" font-size=\"14.00\">gini = 0.0</text>\n<text text-anchor=\"start\" x=\"427\" y=\"-37.8\" font-family=\"Helvetica,sans-Serif\" font-size=\"14.00\">samples = 2</text>\n<text text-anchor=\"start\" x=\"417.5\" y=\"-22.8\" font-family=\"Helvetica,sans-Serif\" font-size=\"14.00\">value = [0, 2, 0]</text>\n<text text-anchor=\"start\" x=\"401\" y=\"-7.8\" font-family=\"Helvetica,sans-Serif\" font-size=\"14.00\">class = Iris&#45;versicolor</text>\n</g>\n<!-- 9&#45;&gt;10 -->\n<g id=\"edge10\" class=\"edge\">\n<title>9&#45;&gt;10</title>\n<path fill=\"none\" stroke=\"black\" d=\"M514.08,-103.73C507.7,-94.88 500.94,-85.51 494.53,-76.63\"/>\n<polygon fill=\"black\" stroke=\"black\" points=\"497.21,-74.36 488.52,-68.3 491.54,-78.46 497.21,-74.36\"/>\n</g>\n<!-- 11 -->\n<g id=\"node12\" class=\"node\">\n<title>11</title>\n<path fill=\"#8139e5\" stroke=\"black\" d=\"M677,-68C677,-68 566,-68 566,-68 560,-68 554,-62 554,-56 554,-56 554,-12 554,-12 554,-6 560,0 566,0 566,0 677,0 677,0 683,0 689,-6 689,-12 689,-12 689,-56 689,-56 689,-62 683,-68 677,-68\"/>\n<text text-anchor=\"start\" x=\"593.5\" y=\"-52.8\" font-family=\"Helvetica,sans-Serif\" font-size=\"14.00\">gini = 0.0</text>\n<text text-anchor=\"start\" x=\"584\" y=\"-37.8\" font-family=\"Helvetica,sans-Serif\" font-size=\"14.00\">samples = 1</text>\n<text text-anchor=\"start\" x=\"574.5\" y=\"-22.8\" font-family=\"Helvetica,sans-Serif\" font-size=\"14.00\">value = [0, 0, 1]</text>\n<text text-anchor=\"start\" x=\"562\" y=\"-7.8\" font-family=\"Helvetica,sans-Serif\" font-size=\"14.00\">class = Iris&#45;virginica</text>\n</g>\n<!-- 9&#45;&gt;11 -->\n<g id=\"edge11\" class=\"edge\">\n<title>9&#45;&gt;11</title>\n<path fill=\"none\" stroke=\"black\" d=\"M572.54,-103.73C578.85,-94.88 585.52,-85.51 591.85,-76.63\"/>\n<polygon fill=\"black\" stroke=\"black\" points=\"594.83,-78.48 597.78,-68.3 589.13,-74.41 594.83,-78.48\"/>\n</g>\n<!-- 13 -->\n<g id=\"node14\" class=\"node\">\n<title>13</title>\n<path fill=\"#c09cf2\" stroke=\"black\" d=\"M764.5,-306C764.5,-306 646.5,-306 646.5,-306 640.5,-306 634.5,-300 634.5,-294 634.5,-294 634.5,-235 634.5,-235 634.5,-229 640.5,-223 646.5,-223 646.5,-223 764.5,-223 764.5,-223 770.5,-223 776.5,-229 776.5,-235 776.5,-235 776.5,-294 776.5,-294 776.5,-300 770.5,-306 764.5,-306\"/>\n<text text-anchor=\"start\" x=\"642.5\" y=\"-290.8\" font-family=\"Helvetica,sans-Serif\" font-size=\"14.00\">SepalWidthCm ≤ 3.1</text>\n<text text-anchor=\"start\" x=\"670\" y=\"-275.8\" font-family=\"Helvetica,sans-Serif\" font-size=\"14.00\">gini = 0.444</text>\n<text text-anchor=\"start\" x=\"668\" y=\"-260.8\" font-family=\"Helvetica,sans-Serif\" font-size=\"14.00\">samples = 3</text>\n<text text-anchor=\"start\" x=\"658.5\" y=\"-245.8\" font-family=\"Helvetica,sans-Serif\" font-size=\"14.00\">value = [0, 1, 2]</text>\n<text text-anchor=\"start\" x=\"646\" y=\"-230.8\" font-family=\"Helvetica,sans-Serif\" font-size=\"14.00\">class = Iris&#45;virginica</text>\n</g>\n<!-- 12&#45;&gt;13 -->\n<g id=\"edge13\" class=\"edge\">\n<title>12&#45;&gt;13</title>\n<path fill=\"none\" stroke=\"black\" d=\"M705.5,-341.91C705.5,-333.65 705.5,-324.86 705.5,-316.3\"/>\n<polygon fill=\"black\" stroke=\"black\" points=\"709,-316.02 705.5,-306.02 702,-316.02 709,-316.02\"/>\n</g>\n<!-- 16 -->\n<g id=\"node17\" class=\"node\">\n<title>16</title>\n<path fill=\"#8139e5\" stroke=\"black\" d=\"M918,-298.5C918,-298.5 807,-298.5 807,-298.5 801,-298.5 795,-292.5 795,-286.5 795,-286.5 795,-242.5 795,-242.5 795,-236.5 801,-230.5 807,-230.5 807,-230.5 918,-230.5 918,-230.5 924,-230.5 930,-236.5 930,-242.5 930,-242.5 930,-286.5 930,-286.5 930,-292.5 924,-298.5 918,-298.5\"/>\n<text text-anchor=\"start\" x=\"834.5\" y=\"-283.3\" font-family=\"Helvetica,sans-Serif\" font-size=\"14.00\">gini = 0.0</text>\n<text text-anchor=\"start\" x=\"821.5\" y=\"-268.3\" font-family=\"Helvetica,sans-Serif\" font-size=\"14.00\">samples = 43</text>\n<text text-anchor=\"start\" x=\"812\" y=\"-253.3\" font-family=\"Helvetica,sans-Serif\" font-size=\"14.00\">value = [0, 0, 43]</text>\n<text text-anchor=\"start\" x=\"803\" y=\"-238.3\" font-family=\"Helvetica,sans-Serif\" font-size=\"14.00\">class = Iris&#45;virginica</text>\n</g>\n<!-- 12&#45;&gt;16 -->\n<g id=\"edge16\" class=\"edge\">\n<title>12&#45;&gt;16</title>\n<path fill=\"none\" stroke=\"black\" d=\"M759.97,-341.91C776.11,-329.88 793.75,-316.73 809.78,-304.79\"/>\n<polygon fill=\"black\" stroke=\"black\" points=\"812.07,-307.45 817.99,-298.67 807.88,-301.84 812.07,-307.45\"/>\n</g>\n<!-- 14 -->\n<g id=\"node15\" class=\"node\">\n<title>14</title>\n<path fill=\"#8139e5\" stroke=\"black\" d=\"M761,-179.5C761,-179.5 650,-179.5 650,-179.5 644,-179.5 638,-173.5 638,-167.5 638,-167.5 638,-123.5 638,-123.5 638,-117.5 644,-111.5 650,-111.5 650,-111.5 761,-111.5 761,-111.5 767,-111.5 773,-117.5 773,-123.5 773,-123.5 773,-167.5 773,-167.5 773,-173.5 767,-179.5 761,-179.5\"/>\n<text text-anchor=\"start\" x=\"677.5\" y=\"-164.3\" font-family=\"Helvetica,sans-Serif\" font-size=\"14.00\">gini = 0.0</text>\n<text text-anchor=\"start\" x=\"668\" y=\"-149.3\" font-family=\"Helvetica,sans-Serif\" font-size=\"14.00\">samples = 2</text>\n<text text-anchor=\"start\" x=\"658.5\" y=\"-134.3\" font-family=\"Helvetica,sans-Serif\" font-size=\"14.00\">value = [0, 0, 2]</text>\n<text text-anchor=\"start\" x=\"646\" y=\"-119.3\" font-family=\"Helvetica,sans-Serif\" font-size=\"14.00\">class = Iris&#45;virginica</text>\n</g>\n<!-- 13&#45;&gt;14 -->\n<g id=\"edge14\" class=\"edge\">\n<title>13&#45;&gt;14</title>\n<path fill=\"none\" stroke=\"black\" d=\"M705.5,-222.91C705.5,-212.2 705.5,-200.62 705.5,-189.78\"/>\n<polygon fill=\"black\" stroke=\"black\" points=\"709,-189.67 705.5,-179.67 702,-189.67 709,-189.67\"/>\n</g>\n<!-- 15 -->\n<g id=\"node16\" class=\"node\">\n<title>15</title>\n<path fill=\"#39e581\" stroke=\"black\" d=\"M922,-179.5C922,-179.5 803,-179.5 803,-179.5 797,-179.5 791,-173.5 791,-167.5 791,-167.5 791,-123.5 791,-123.5 791,-117.5 797,-111.5 803,-111.5 803,-111.5 922,-111.5 922,-111.5 928,-111.5 934,-117.5 934,-123.5 934,-123.5 934,-167.5 934,-167.5 934,-173.5 928,-179.5 922,-179.5\"/>\n<text text-anchor=\"start\" x=\"834.5\" y=\"-164.3\" font-family=\"Helvetica,sans-Serif\" font-size=\"14.00\">gini = 0.0</text>\n<text text-anchor=\"start\" x=\"825\" y=\"-149.3\" font-family=\"Helvetica,sans-Serif\" font-size=\"14.00\">samples = 1</text>\n<text text-anchor=\"start\" x=\"815.5\" y=\"-134.3\" font-family=\"Helvetica,sans-Serif\" font-size=\"14.00\">value = [0, 1, 0]</text>\n<text text-anchor=\"start\" x=\"799\" y=\"-119.3\" font-family=\"Helvetica,sans-Serif\" font-size=\"14.00\">class = Iris&#45;versicolor</text>\n</g>\n<!-- 13&#45;&gt;15 -->\n<g id=\"edge15\" class=\"edge\">\n<title>13&#45;&gt;15</title>\n<path fill=\"none\" stroke=\"black\" d=\"M759.97,-222.91C776.11,-210.88 793.75,-197.73 809.78,-185.79\"/>\n<polygon fill=\"black\" stroke=\"black\" points=\"812.07,-188.45 817.99,-179.67 807.88,-182.84 812.07,-188.45\"/>\n</g>\n</g>\n</svg>\n",
            "text/plain": [
              "<graphviz.sources.Source at 0x7f39117da9b0>"
            ]
          },
          "metadata": {},
          "execution_count": 13
        }
      ]
    },
    {
      "cell_type": "markdown",
      "source": [
        "En este ejemplo, utilizamos el conjunto de datos Iris y creamos una instancia del clasificador de árbol de decisión. Luego, utilizamos export_graphviz para generar una representación en formato DOT del árbol. export_graphviz toma varios parámetros, como los nombres de las características y las clases, para mejorar la legibilidad del árbol generado.\n",
        "\n",
        "Después, utilizamos graphviz.Source para crear un objeto de tipo Source que representa el árbol. Luego, llamamos al método render para guardar el árbol en formato PDF con el nombre \"arbol_decision\". También pueden omitir el render si solo quieren mostrar el árbol en el notebook.\n",
        "\n",
        "Recuerden que este código generará un archivo PDF con el árbol de decisión o mostrará el árbol directamente en el notebook, dependiendo de la opción que elijan. Asegúrense de tener instalada la biblioteca graphviz y sus dependencias para que esto funcione correctamente."
      ],
      "metadata": {
        "id": "WF18f6094npY"
      }
    },
    {
      "cell_type": "markdown",
      "source": [
        "##**Ejercicios para el Laboratorio**\n",
        "\n",
        "Para este laboratorio deberán buscar un dataset que cumpla con alguna de las condiciones definidas en la sección de datasets adecuados para el algoritmo.\n",
        "1. Primero importen todas las bibliotecas que vayan a usar para su laboratorio:"
      ],
      "metadata": {
        "id": "BVLAVeiE56-D"
      }
    },
    {
      "cell_type": "code",
      "source": [
        "from google.colab import drive\n",
        "drive.mount('/content/drive')\n",
        "\n",
        "from sklearn import preprocessing\n",
        "from sklearn.tree import DecisionTreeClassifier\n",
        "from sklearn.model_selection import train_test_split\n",
        "from sklearn.metrics import accuracy_score, classification_report\n",
        "from sklearn.tree import export_graphviz\n",
        "import graphviz"
      ],
      "metadata": {
        "id": "-yEERo_66jQ3",
        "colab": {
          "base_uri": "https://localhost:8080/"
        },
        "outputId": "a1ca09bc-a475-4fec-b85b-853a5ea03388"
      },
      "execution_count": null,
      "outputs": [
        {
          "output_type": "stream",
          "name": "stdout",
          "text": [
            "Mounted at /content/drive\n"
          ]
        }
      ]
    },
    {
      "cell_type": "markdown",
      "source": [
        "2. Luego cargan el dataset para el trabajo del algoritmo e imprimen parte del dataset a usar."
      ],
      "metadata": {
        "id": "gaPJ6rFO7A4B"
      }
    },
    {
      "cell_type": "code",
      "source": [
        "data = pd.read_csv('/content/mushrooms.csv',dtype='category')\n",
        "data = data.dropna()\n",
        "X = pd.get_dummies(data.loc[:, data.columns != 'class'])\n",
        "y = data[data.columns[0]]"
      ],
      "metadata": {
        "id": "UDh9g69s7BMH"
      },
      "execution_count": null,
      "outputs": []
    },
    {
      "cell_type": "markdown",
      "source": [
        "3. Separen el dataset en un conjunto de entrenamiento y otro para pruebas:"
      ],
      "metadata": {
        "id": "_pxEziPo6n0s"
      }
    },
    {
      "cell_type": "code",
      "source": [
        "X_train, X_test, y_train, y_test = train_test_split(X, y, test_size=0.2, random_state=1337)"
      ],
      "metadata": {
        "id": "T5Pu29O_6tks"
      },
      "execution_count": null,
      "outputs": []
    },
    {
      "cell_type": "markdown",
      "source": [
        "4. Cree el árbol de decisión y entrene el clasificador:"
      ],
      "metadata": {
        "id": "Yz5AHkI56vDk"
      }
    },
    {
      "cell_type": "code",
      "source": [
        "clf = DecisionTreeClassifier()\n",
        "clf.fit(X, y)"
      ],
      "metadata": {
        "id": "PhSY6VeE7ZR-",
        "colab": {
          "base_uri": "https://localhost:8080/",
          "height": 75
        },
        "outputId": "12515b46-4a02-4b48-d69b-10da9e05ad82"
      },
      "execution_count": null,
      "outputs": [
        {
          "output_type": "execute_result",
          "data": {
            "text/plain": [
              "DecisionTreeClassifier()"
            ],
            "text/html": [
              "<style>#sk-container-id-5 {color: black;background-color: white;}#sk-container-id-5 pre{padding: 0;}#sk-container-id-5 div.sk-toggleable {background-color: white;}#sk-container-id-5 label.sk-toggleable__label {cursor: pointer;display: block;width: 100%;margin-bottom: 0;padding: 0.3em;box-sizing: border-box;text-align: center;}#sk-container-id-5 label.sk-toggleable__label-arrow:before {content: \"▸\";float: left;margin-right: 0.25em;color: #696969;}#sk-container-id-5 label.sk-toggleable__label-arrow:hover:before {color: black;}#sk-container-id-5 div.sk-estimator:hover label.sk-toggleable__label-arrow:before {color: black;}#sk-container-id-5 div.sk-toggleable__content {max-height: 0;max-width: 0;overflow: hidden;text-align: left;background-color: #f0f8ff;}#sk-container-id-5 div.sk-toggleable__content pre {margin: 0.2em;color: black;border-radius: 0.25em;background-color: #f0f8ff;}#sk-container-id-5 input.sk-toggleable__control:checked~div.sk-toggleable__content {max-height: 200px;max-width: 100%;overflow: auto;}#sk-container-id-5 input.sk-toggleable__control:checked~label.sk-toggleable__label-arrow:before {content: \"▾\";}#sk-container-id-5 div.sk-estimator input.sk-toggleable__control:checked~label.sk-toggleable__label {background-color: #d4ebff;}#sk-container-id-5 div.sk-label input.sk-toggleable__control:checked~label.sk-toggleable__label {background-color: #d4ebff;}#sk-container-id-5 input.sk-hidden--visually {border: 0;clip: rect(1px 1px 1px 1px);clip: rect(1px, 1px, 1px, 1px);height: 1px;margin: -1px;overflow: hidden;padding: 0;position: absolute;width: 1px;}#sk-container-id-5 div.sk-estimator {font-family: monospace;background-color: #f0f8ff;border: 1px dotted black;border-radius: 0.25em;box-sizing: border-box;margin-bottom: 0.5em;}#sk-container-id-5 div.sk-estimator:hover {background-color: #d4ebff;}#sk-container-id-5 div.sk-parallel-item::after {content: \"\";width: 100%;border-bottom: 1px solid gray;flex-grow: 1;}#sk-container-id-5 div.sk-label:hover label.sk-toggleable__label {background-color: #d4ebff;}#sk-container-id-5 div.sk-serial::before {content: \"\";position: absolute;border-left: 1px solid gray;box-sizing: border-box;top: 0;bottom: 0;left: 50%;z-index: 0;}#sk-container-id-5 div.sk-serial {display: flex;flex-direction: column;align-items: center;background-color: white;padding-right: 0.2em;padding-left: 0.2em;position: relative;}#sk-container-id-5 div.sk-item {position: relative;z-index: 1;}#sk-container-id-5 div.sk-parallel {display: flex;align-items: stretch;justify-content: center;background-color: white;position: relative;}#sk-container-id-5 div.sk-item::before, #sk-container-id-5 div.sk-parallel-item::before {content: \"\";position: absolute;border-left: 1px solid gray;box-sizing: border-box;top: 0;bottom: 0;left: 50%;z-index: -1;}#sk-container-id-5 div.sk-parallel-item {display: flex;flex-direction: column;z-index: 1;position: relative;background-color: white;}#sk-container-id-5 div.sk-parallel-item:first-child::after {align-self: flex-end;width: 50%;}#sk-container-id-5 div.sk-parallel-item:last-child::after {align-self: flex-start;width: 50%;}#sk-container-id-5 div.sk-parallel-item:only-child::after {width: 0;}#sk-container-id-5 div.sk-dashed-wrapped {border: 1px dashed gray;margin: 0 0.4em 0.5em 0.4em;box-sizing: border-box;padding-bottom: 0.4em;background-color: white;}#sk-container-id-5 div.sk-label label {font-family: monospace;font-weight: bold;display: inline-block;line-height: 1.2em;}#sk-container-id-5 div.sk-label-container {text-align: center;}#sk-container-id-5 div.sk-container {/* jupyter's `normalize.less` sets `[hidden] { display: none; }` but bootstrap.min.css set `[hidden] { display: none !important; }` so we also need the `!important` here to be able to override the default hidden behavior on the sphinx rendered scikit-learn.org. See: https://github.com/scikit-learn/scikit-learn/issues/21755 */display: inline-block !important;position: relative;}#sk-container-id-5 div.sk-text-repr-fallback {display: none;}</style><div id=\"sk-container-id-5\" class=\"sk-top-container\"><div class=\"sk-text-repr-fallback\"><pre>DecisionTreeClassifier()</pre><b>In a Jupyter environment, please rerun this cell to show the HTML representation or trust the notebook. <br />On GitHub, the HTML representation is unable to render, please try loading this page with nbviewer.org.</b></div><div class=\"sk-container\" hidden><div class=\"sk-item\"><div class=\"sk-estimator sk-toggleable\"><input class=\"sk-toggleable__control sk-hidden--visually\" id=\"sk-estimator-id-5\" type=\"checkbox\" checked><label for=\"sk-estimator-id-5\" class=\"sk-toggleable__label sk-toggleable__label-arrow\">DecisionTreeClassifier</label><div class=\"sk-toggleable__content\"><pre>DecisionTreeClassifier()</pre></div></div></div></div></div>"
            ]
          },
          "metadata": {},
          "execution_count": 44
        }
      ]
    },
    {
      "cell_type": "markdown",
      "source": [
        "5. Pase los casos de prueba que definió e imprima la precisión que logró obtener con su clasificador:"
      ],
      "metadata": {
        "id": "n-5xXqx37tqj"
      }
    },
    {
      "cell_type": "code",
      "source": [
        "y_pred = clf.predict(X_test)\n",
        "accuracy = accuracy_score(y_test, y_pred)\n",
        "print(\"Precisión del modelo:\", accuracy)"
      ],
      "metadata": {
        "id": "nhuJ27I77uRt",
        "colab": {
          "base_uri": "https://localhost:8080/"
        },
        "outputId": "26781242-e154-4df1-fa96-43a45bafbe72"
      },
      "execution_count": null,
      "outputs": [
        {
          "output_type": "stream",
          "name": "stdout",
          "text": [
            "Precisión del modelo: 1.0\n"
          ]
        }
      ]
    },
    {
      "cell_type": "markdown",
      "source": [
        "6. Cree varios casos de prueba e imprima varias predicciones utilizando el clasificador entrenado que creo anteriormente:"
      ],
      "metadata": {
        "id": "17fW0Rqn7eP9"
      }
    },
    {
      "cell_type": "code",
      "source": [
        "test_data = pd.DataFrame({\n",
        "    'cap-shape': ['x', 'f', 'k'],\n",
        "    'cap-surface': ['s', 'y', 'f'],\n",
        "    'cap-color': ['n', 'g', 'y'],\n",
        "    'bruises': ['f', 't', 'f'],\n",
        "    'odor': ['p', 'a', 'l'],\n",
        "    'gill-attachment': ['f', 'a', 'f'],\n",
        "    'gill-spacing': ['c', 'w', 'c'],\n",
        "    'gill-size': ['n', 'b', 'n'],\n",
        "    'gill-color': ['k', 'p', 'n'],\n",
        "    'stalk-shape': ['e', 'e', 't'],\n",
        "    'stalk-root': ['b', 'e', 'c'],\n",
        "    'stalk-surface-above-ring': ['s', 'f', 'k'],\n",
        "    'stalk-surface-below-ring': ['s', 'f', 'k'],\n",
        "    'stalk-color-above-ring': ['w', 'n', 'b'],\n",
        "    'stalk-color-below-ring': ['w', 'n', 'b'],\n",
        "    'veil-type': ['p', 'p', 'p'],\n",
        "    'veil-color': ['w', 'y', 'w'],\n",
        "    'ring-number': ['o', 'o', 'o'],\n",
        "    'ring-type': ['p', 'e', 'e'],\n",
        "    'spore-print-color': ['k', 'n', 'k'],\n",
        "    'population': ['y', 's', 'c'],\n",
        "    'habitat': ['d', 'g', 'm']\n",
        "})\n",
        "\n",
        "predictions = clf.predict(test_data)\n",
        "\n",
        "# Print the predicted class labels\n",
        "print(predictions)"
      ],
      "metadata": {
        "id": "pWXx6QLk7mdM",
        "colab": {
          "base_uri": "https://localhost:8080/",
          "height": 623
        },
        "outputId": "a88e44f4-4219-4172-a8a5-50123c576426"
      },
      "execution_count": null,
      "outputs": [
        {
          "output_type": "error",
          "ename": "ValueError",
          "evalue": "ignored",
          "traceback": [
            "\u001b[0;31m---------------------------------------------------------------------------\u001b[0m",
            "\u001b[0;31mValueError\u001b[0m                                Traceback (most recent call last)",
            "\u001b[0;32m<ipython-input-51-34b3be68fb6b>\u001b[0m in \u001b[0;36m<cell line: 26>\u001b[0;34m()\u001b[0m\n\u001b[1;32m     24\u001b[0m })\n\u001b[1;32m     25\u001b[0m \u001b[0;34m\u001b[0m\u001b[0m\n\u001b[0;32m---> 26\u001b[0;31m \u001b[0mpredictions\u001b[0m \u001b[0;34m=\u001b[0m \u001b[0mclf\u001b[0m\u001b[0;34m.\u001b[0m\u001b[0mpredict\u001b[0m\u001b[0;34m(\u001b[0m\u001b[0mtest_data\u001b[0m\u001b[0;34m)\u001b[0m\u001b[0;34m\u001b[0m\u001b[0;34m\u001b[0m\u001b[0m\n\u001b[0m\u001b[1;32m     27\u001b[0m \u001b[0;34m\u001b[0m\u001b[0m\n\u001b[1;32m     28\u001b[0m \u001b[0;31m# Print the predicted class labels\u001b[0m\u001b[0;34m\u001b[0m\u001b[0;34m\u001b[0m\u001b[0m\n",
            "\u001b[0;32m/usr/local/lib/python3.10/dist-packages/sklearn/tree/_classes.py\u001b[0m in \u001b[0;36mpredict\u001b[0;34m(self, X, check_input)\u001b[0m\n\u001b[1;32m    424\u001b[0m         \"\"\"\n\u001b[1;32m    425\u001b[0m         \u001b[0mcheck_is_fitted\u001b[0m\u001b[0;34m(\u001b[0m\u001b[0mself\u001b[0m\u001b[0;34m)\u001b[0m\u001b[0;34m\u001b[0m\u001b[0;34m\u001b[0m\u001b[0m\n\u001b[0;32m--> 426\u001b[0;31m         \u001b[0mX\u001b[0m \u001b[0;34m=\u001b[0m \u001b[0mself\u001b[0m\u001b[0;34m.\u001b[0m\u001b[0m_validate_X_predict\u001b[0m\u001b[0;34m(\u001b[0m\u001b[0mX\u001b[0m\u001b[0;34m,\u001b[0m \u001b[0mcheck_input\u001b[0m\u001b[0;34m)\u001b[0m\u001b[0;34m\u001b[0m\u001b[0;34m\u001b[0m\u001b[0m\n\u001b[0m\u001b[1;32m    427\u001b[0m         \u001b[0mproba\u001b[0m \u001b[0;34m=\u001b[0m \u001b[0mself\u001b[0m\u001b[0;34m.\u001b[0m\u001b[0mtree_\u001b[0m\u001b[0;34m.\u001b[0m\u001b[0mpredict\u001b[0m\u001b[0;34m(\u001b[0m\u001b[0mX\u001b[0m\u001b[0;34m)\u001b[0m\u001b[0;34m\u001b[0m\u001b[0;34m\u001b[0m\u001b[0m\n\u001b[1;32m    428\u001b[0m         \u001b[0mn_samples\u001b[0m \u001b[0;34m=\u001b[0m \u001b[0mX\u001b[0m\u001b[0;34m.\u001b[0m\u001b[0mshape\u001b[0m\u001b[0;34m[\u001b[0m\u001b[0;36m0\u001b[0m\u001b[0;34m]\u001b[0m\u001b[0;34m\u001b[0m\u001b[0;34m\u001b[0m\u001b[0m\n",
            "\u001b[0;32m/usr/local/lib/python3.10/dist-packages/sklearn/tree/_classes.py\u001b[0m in \u001b[0;36m_validate_X_predict\u001b[0;34m(self, X, check_input)\u001b[0m\n\u001b[1;32m    390\u001b[0m         \u001b[0;34m\"\"\"Validate the training data on predict (probabilities).\"\"\"\u001b[0m\u001b[0;34m\u001b[0m\u001b[0;34m\u001b[0m\u001b[0m\n\u001b[1;32m    391\u001b[0m         \u001b[0;32mif\u001b[0m \u001b[0mcheck_input\u001b[0m\u001b[0;34m:\u001b[0m\u001b[0;34m\u001b[0m\u001b[0;34m\u001b[0m\u001b[0m\n\u001b[0;32m--> 392\u001b[0;31m             \u001b[0mX\u001b[0m \u001b[0;34m=\u001b[0m \u001b[0mself\u001b[0m\u001b[0;34m.\u001b[0m\u001b[0m_validate_data\u001b[0m\u001b[0;34m(\u001b[0m\u001b[0mX\u001b[0m\u001b[0;34m,\u001b[0m \u001b[0mdtype\u001b[0m\u001b[0;34m=\u001b[0m\u001b[0mDTYPE\u001b[0m\u001b[0;34m,\u001b[0m \u001b[0maccept_sparse\u001b[0m\u001b[0;34m=\u001b[0m\u001b[0;34m\"csr\"\u001b[0m\u001b[0;34m,\u001b[0m \u001b[0mreset\u001b[0m\u001b[0;34m=\u001b[0m\u001b[0;32mFalse\u001b[0m\u001b[0;34m)\u001b[0m\u001b[0;34m\u001b[0m\u001b[0;34m\u001b[0m\u001b[0m\n\u001b[0m\u001b[1;32m    393\u001b[0m             if issparse(X) and (\n\u001b[1;32m    394\u001b[0m                 \u001b[0mX\u001b[0m\u001b[0;34m.\u001b[0m\u001b[0mindices\u001b[0m\u001b[0;34m.\u001b[0m\u001b[0mdtype\u001b[0m \u001b[0;34m!=\u001b[0m \u001b[0mnp\u001b[0m\u001b[0;34m.\u001b[0m\u001b[0mintc\u001b[0m \u001b[0;32mor\u001b[0m \u001b[0mX\u001b[0m\u001b[0;34m.\u001b[0m\u001b[0mindptr\u001b[0m\u001b[0;34m.\u001b[0m\u001b[0mdtype\u001b[0m \u001b[0;34m!=\u001b[0m \u001b[0mnp\u001b[0m\u001b[0;34m.\u001b[0m\u001b[0mintc\u001b[0m\u001b[0;34m\u001b[0m\u001b[0;34m\u001b[0m\u001b[0m\n",
            "\u001b[0;32m/usr/local/lib/python3.10/dist-packages/sklearn/base.py\u001b[0m in \u001b[0;36m_validate_data\u001b[0;34m(self, X, y, reset, validate_separately, **check_params)\u001b[0m\n\u001b[1;32m    546\u001b[0m             \u001b[0mvalidated\u001b[0m\u001b[0;34m.\u001b[0m\u001b[0;34m\u001b[0m\u001b[0;34m\u001b[0m\u001b[0m\n\u001b[1;32m    547\u001b[0m         \"\"\"\n\u001b[0;32m--> 548\u001b[0;31m         \u001b[0mself\u001b[0m\u001b[0;34m.\u001b[0m\u001b[0m_check_feature_names\u001b[0m\u001b[0;34m(\u001b[0m\u001b[0mX\u001b[0m\u001b[0;34m,\u001b[0m \u001b[0mreset\u001b[0m\u001b[0;34m=\u001b[0m\u001b[0mreset\u001b[0m\u001b[0;34m)\u001b[0m\u001b[0;34m\u001b[0m\u001b[0;34m\u001b[0m\u001b[0m\n\u001b[0m\u001b[1;32m    549\u001b[0m \u001b[0;34m\u001b[0m\u001b[0m\n\u001b[1;32m    550\u001b[0m         \u001b[0;32mif\u001b[0m \u001b[0my\u001b[0m \u001b[0;32mis\u001b[0m \u001b[0;32mNone\u001b[0m \u001b[0;32mand\u001b[0m \u001b[0mself\u001b[0m\u001b[0;34m.\u001b[0m\u001b[0m_get_tags\u001b[0m\u001b[0;34m(\u001b[0m\u001b[0;34m)\u001b[0m\u001b[0;34m[\u001b[0m\u001b[0;34m\"requires_y\"\u001b[0m\u001b[0;34m]\u001b[0m\u001b[0;34m:\u001b[0m\u001b[0;34m\u001b[0m\u001b[0;34m\u001b[0m\u001b[0m\n",
            "\u001b[0;32m/usr/local/lib/python3.10/dist-packages/sklearn/base.py\u001b[0m in \u001b[0;36m_check_feature_names\u001b[0;34m(self, X, reset)\u001b[0m\n\u001b[1;32m    479\u001b[0m                 )\n\u001b[1;32m    480\u001b[0m \u001b[0;34m\u001b[0m\u001b[0m\n\u001b[0;32m--> 481\u001b[0;31m             \u001b[0;32mraise\u001b[0m \u001b[0mValueError\u001b[0m\u001b[0;34m(\u001b[0m\u001b[0mmessage\u001b[0m\u001b[0;34m)\u001b[0m\u001b[0;34m\u001b[0m\u001b[0;34m\u001b[0m\u001b[0m\n\u001b[0m\u001b[1;32m    482\u001b[0m \u001b[0;34m\u001b[0m\u001b[0m\n\u001b[1;32m    483\u001b[0m     def _validate_data(\n",
            "\u001b[0;31mValueError\u001b[0m: The feature names should match those that were passed during fit.\nFeature names unseen at fit time:\n- bruises\n- cap-color\n- cap-shape\n- cap-surface\n- gill-attachment\n- ...\nFeature names seen at fit time, yet now missing:\n- bruises_f\n- bruises_t\n- cap-color_b\n- cap-color_c\n- cap-color_e\n- ...\n"
          ]
        }
      ]
    },
    {
      "cell_type": "markdown",
      "source": [
        "7. En esta sección, explique lo aprendido con las predicciones hechas:"
      ],
      "metadata": {
        "id": "HHcpKJ3y7mto"
      }
    },
    {
      "cell_type": "markdown",
      "source": [
        "~Escribir aquí las conclusiones obtenidas."
      ],
      "metadata": {
        "id": "TYI9XxuR77T_"
      }
    },
    {
      "cell_type": "markdown",
      "source": [
        "8. Genere una representación gráfica del árbol de decisión obtenido utilizando lo aprendido en puntos anteriores:"
      ],
      "metadata": {
        "id": "HqZ3imeJ8A-_"
      }
    },
    {
      "cell_type": "code",
      "source": [
        "\n",
        "dot_data = export_graphviz(clf, out_file=None,\n",
        "                           feature_names=X.columns,\n",
        "                           class_names=['p','e'],\n",
        "                           filled=True, rounded=True,\n",
        "                           special_characters=True)\n",
        "\n",
        "graph = graphviz.Source(dot_data)\n",
        "graph.render(\"arbol_decision\")\n",
        "\n",
        "graph"
      ],
      "metadata": {
        "id": "FU6iiDsv8Nt7",
        "colab": {
          "base_uri": "https://localhost:8080/",
          "height": 1000
        },
        "outputId": "cfcfe8d6-fecf-4d3d-f9f5-b562aeafc30a"
      },
      "execution_count": null,
      "outputs": [
        {
          "output_type": "execute_result",
          "data": {
            "image/svg+xml": "<?xml version=\"1.0\" encoding=\"UTF-8\" standalone=\"no\"?>\n<!DOCTYPE svg PUBLIC \"-//W3C//DTD SVG 1.1//EN\"\n \"http://www.w3.org/Graphics/SVG/1.1/DTD/svg11.dtd\">\n<!-- Generated by graphviz version 2.43.0 (0)\n -->\n<!-- Title: Tree Pages: 1 -->\n<svg width=\"1049pt\" height=\"909pt\"\n viewBox=\"0.00 0.00 1048.50 909.00\" xmlns=\"http://www.w3.org/2000/svg\" xmlns:xlink=\"http://www.w3.org/1999/xlink\">\n<g id=\"graph0\" class=\"graph\" transform=\"scale(1 1) rotate(0) translate(4 905)\">\n<title>Tree</title>\n<polygon fill=\"white\" stroke=\"transparent\" points=\"-4,4 -4,-905 1044.5,-905 1044.5,4 -4,4\"/>\n<!-- 0 -->\n<g id=\"node1\" class=\"node\">\n<title>0</title>\n<path fill=\"#fdf6f1\" stroke=\"black\" d=\"M660.5,-901C660.5,-901 544.5,-901 544.5,-901 538.5,-901 532.5,-895 532.5,-889 532.5,-889 532.5,-830 532.5,-830 532.5,-824 538.5,-818 544.5,-818 544.5,-818 660.5,-818 660.5,-818 666.5,-818 672.5,-824 672.5,-830 672.5,-830 672.5,-889 672.5,-889 672.5,-895 666.5,-901 660.5,-901\"/>\n<text text-anchor=\"start\" x=\"564.5\" y=\"-885.8\" font-family=\"Helvetica,sans-Serif\" font-size=\"14.00\">odor_n ≤ 0.5</text>\n<text text-anchor=\"start\" x=\"567\" y=\"-870.8\" font-family=\"Helvetica,sans-Serif\" font-size=\"14.00\">gini = 0.499</text>\n<text text-anchor=\"start\" x=\"554\" y=\"-855.8\" font-family=\"Helvetica,sans-Serif\" font-size=\"14.00\">samples = 8124</text>\n<text text-anchor=\"start\" x=\"540.5\" y=\"-840.8\" font-family=\"Helvetica,sans-Serif\" font-size=\"14.00\">value = [4208, 3916]</text>\n<text text-anchor=\"start\" x=\"575\" y=\"-825.8\" font-family=\"Helvetica,sans-Serif\" font-size=\"14.00\">class = p</text>\n</g>\n<!-- 1 -->\n<g id=\"node2\" class=\"node\">\n<title>1</title>\n<path fill=\"#63b2ea\" stroke=\"black\" d=\"M554.5,-782C554.5,-782 446.5,-782 446.5,-782 440.5,-782 434.5,-776 434.5,-770 434.5,-770 434.5,-711 434.5,-711 434.5,-705 440.5,-699 446.5,-699 446.5,-699 554.5,-699 554.5,-699 560.5,-699 566.5,-705 566.5,-711 566.5,-711 566.5,-770 566.5,-770 566.5,-776 560.5,-782 554.5,-782\"/>\n<text text-anchor=\"start\" x=\"448.5\" y=\"-766.8\" font-family=\"Helvetica,sans-Serif\" font-size=\"14.00\">stalk&#45;root_c ≤ 0.5</text>\n<text text-anchor=\"start\" x=\"465\" y=\"-751.8\" font-family=\"Helvetica,sans-Serif\" font-size=\"14.00\">gini = 0.288</text>\n<text text-anchor=\"start\" x=\"452\" y=\"-736.8\" font-family=\"Helvetica,sans-Serif\" font-size=\"14.00\">samples = 4596</text>\n<text text-anchor=\"start\" x=\"442.5\" y=\"-721.8\" font-family=\"Helvetica,sans-Serif\" font-size=\"14.00\">value = [800, 3796]</text>\n<text text-anchor=\"start\" x=\"473\" y=\"-706.8\" font-family=\"Helvetica,sans-Serif\" font-size=\"14.00\">class = e</text>\n</g>\n<!-- 0&#45;&gt;1 -->\n<g id=\"edge1\" class=\"edge\">\n<title>0&#45;&gt;1</title>\n<path fill=\"none\" stroke=\"black\" d=\"M567.11,-817.91C559.2,-808.83 550.73,-799.12 542.58,-789.77\"/>\n<polygon fill=\"black\" stroke=\"black\" points=\"545.04,-787.26 535.83,-782.02 539.76,-791.86 545.04,-787.26\"/>\n<text text-anchor=\"middle\" x=\"534.12\" y=\"-803.26\" font-family=\"Helvetica,sans-Serif\" font-size=\"14.00\">True</text>\n</g>\n<!-- 14 -->\n<g id=\"node15\" class=\"node\">\n<title>14</title>\n<path fill=\"#e68540\" stroke=\"black\" d=\"M774,-782C774,-782 637,-782 637,-782 631,-782 625,-776 625,-770 625,-770 625,-711 625,-711 625,-705 631,-699 637,-699 637,-699 774,-699 774,-699 780,-699 786,-705 786,-711 786,-711 786,-770 786,-770 786,-776 780,-782 774,-782\"/>\n<text text-anchor=\"start\" x=\"633\" y=\"-766.8\" font-family=\"Helvetica,sans-Serif\" font-size=\"14.00\">spore&#45;print&#45;color_r ≤ 0.5</text>\n<text text-anchor=\"start\" x=\"670\" y=\"-751.8\" font-family=\"Helvetica,sans-Serif\" font-size=\"14.00\">gini = 0.066</text>\n<text text-anchor=\"start\" x=\"657\" y=\"-736.8\" font-family=\"Helvetica,sans-Serif\" font-size=\"14.00\">samples = 3528</text>\n<text text-anchor=\"start\" x=\"647.5\" y=\"-721.8\" font-family=\"Helvetica,sans-Serif\" font-size=\"14.00\">value = [3408, 120]</text>\n<text text-anchor=\"start\" x=\"678\" y=\"-706.8\" font-family=\"Helvetica,sans-Serif\" font-size=\"14.00\">class = p</text>\n</g>\n<!-- 0&#45;&gt;14 -->\n<g id=\"edge14\" class=\"edge\">\n<title>0&#45;&gt;14</title>\n<path fill=\"none\" stroke=\"black\" d=\"M638.24,-817.91C646.22,-808.83 654.77,-799.12 663.01,-789.77\"/>\n<polygon fill=\"black\" stroke=\"black\" points=\"665.85,-791.84 669.83,-782.02 660.59,-787.21 665.85,-791.84\"/>\n<text text-anchor=\"middle\" x=\"671.42\" y=\"-803.27\" font-family=\"Helvetica,sans-Serif\" font-size=\"14.00\">False</text>\n</g>\n<!-- 2 -->\n<g id=\"node3\" class=\"node\">\n<title>2</title>\n<path fill=\"#48a5e7\" stroke=\"black\" d=\"M387.5,-663C387.5,-663 203.5,-663 203.5,-663 197.5,-663 191.5,-657 191.5,-651 191.5,-651 191.5,-592 191.5,-592 191.5,-586 197.5,-580 203.5,-580 203.5,-580 387.5,-580 387.5,-580 393.5,-580 399.5,-586 399.5,-592 399.5,-592 399.5,-651 399.5,-651 399.5,-657 393.5,-663 387.5,-663\"/>\n<text text-anchor=\"start\" x=\"199.5\" y=\"-647.8\" font-family=\"Helvetica,sans-Serif\" font-size=\"14.00\">stalk&#45;surface&#45;below&#45;ring_y ≤ 0.5</text>\n<text text-anchor=\"start\" x=\"260\" y=\"-632.8\" font-family=\"Helvetica,sans-Serif\" font-size=\"14.00\">gini = 0.132</text>\n<text text-anchor=\"start\" x=\"247\" y=\"-617.8\" font-family=\"Helvetica,sans-Serif\" font-size=\"14.00\">samples = 4048</text>\n<text text-anchor=\"start\" x=\"237.5\" y=\"-602.8\" font-family=\"Helvetica,sans-Serif\" font-size=\"14.00\">value = [288, 3760]</text>\n<text text-anchor=\"start\" x=\"268\" y=\"-587.8\" font-family=\"Helvetica,sans-Serif\" font-size=\"14.00\">class = e</text>\n</g>\n<!-- 1&#45;&gt;2 -->\n<g id=\"edge2\" class=\"edge\">\n<title>1&#45;&gt;2</title>\n<path fill=\"none\" stroke=\"black\" d=\"M434.23,-701.68C415.46,-690.96 394.83,-679.19 375.35,-668.08\"/>\n<polygon fill=\"black\" stroke=\"black\" points=\"376.92,-664.94 366.5,-663.02 373.45,-671.02 376.92,-664.94\"/>\n</g>\n<!-- 11 -->\n<g id=\"node12\" class=\"node\">\n<title>11</title>\n<path fill=\"#e78a47\" stroke=\"black\" d=\"M571.5,-663C571.5,-663 429.5,-663 429.5,-663 423.5,-663 417.5,-657 417.5,-651 417.5,-651 417.5,-592 417.5,-592 417.5,-586 423.5,-580 429.5,-580 429.5,-580 571.5,-580 571.5,-580 577.5,-580 583.5,-586 583.5,-592 583.5,-592 583.5,-651 583.5,-651 583.5,-657 577.5,-663 571.5,-663\"/>\n<text text-anchor=\"start\" x=\"425.5\" y=\"-647.8\" font-family=\"Helvetica,sans-Serif\" font-size=\"14.00\">spore&#45;print&#45;color_w ≤ 0.5</text>\n<text text-anchor=\"start\" x=\"465\" y=\"-632.8\" font-family=\"Helvetica,sans-Serif\" font-size=\"14.00\">gini = 0.123</text>\n<text text-anchor=\"start\" x=\"455.5\" y=\"-617.8\" font-family=\"Helvetica,sans-Serif\" font-size=\"14.00\">samples = 548</text>\n<text text-anchor=\"start\" x=\"450\" y=\"-602.8\" font-family=\"Helvetica,sans-Serif\" font-size=\"14.00\">value = [512, 36]</text>\n<text text-anchor=\"start\" x=\"473\" y=\"-587.8\" font-family=\"Helvetica,sans-Serif\" font-size=\"14.00\">class = p</text>\n</g>\n<!-- 1&#45;&gt;11 -->\n<g id=\"edge11\" class=\"edge\">\n<title>1&#45;&gt;11</title>\n<path fill=\"none\" stroke=\"black\" d=\"M500.5,-698.91C500.5,-690.65 500.5,-681.86 500.5,-673.3\"/>\n<polygon fill=\"black\" stroke=\"black\" points=\"504,-673.02 500.5,-663.02 497,-673.02 504,-673.02\"/>\n</g>\n<!-- 3 -->\n<g id=\"node4\" class=\"node\">\n<title>3</title>\n<path fill=\"#3ea0e6\" stroke=\"black\" d=\"M213.5,-544C213.5,-544 73.5,-544 73.5,-544 67.5,-544 61.5,-538 61.5,-532 61.5,-532 61.5,-473 61.5,-473 61.5,-467 67.5,-461 73.5,-461 73.5,-461 213.5,-461 213.5,-461 219.5,-461 225.5,-467 225.5,-473 225.5,-473 225.5,-532 225.5,-532 225.5,-538 219.5,-544 213.5,-544\"/>\n<text text-anchor=\"start\" x=\"69.5\" y=\"-528.8\" font-family=\"Helvetica,sans-Serif\" font-size=\"14.00\">spore&#45;print&#45;color_u ≤ 0.5</text>\n<text text-anchor=\"start\" x=\"108\" y=\"-513.8\" font-family=\"Helvetica,sans-Serif\" font-size=\"14.00\">gini = 0.049</text>\n<text text-anchor=\"start\" x=\"95\" y=\"-498.8\" font-family=\"Helvetica,sans-Serif\" font-size=\"14.00\">samples = 3856</text>\n<text text-anchor=\"start\" x=\"89\" y=\"-483.8\" font-family=\"Helvetica,sans-Serif\" font-size=\"14.00\">value = [96, 3760]</text>\n<text text-anchor=\"start\" x=\"116\" y=\"-468.8\" font-family=\"Helvetica,sans-Serif\" font-size=\"14.00\">class = e</text>\n</g>\n<!-- 2&#45;&gt;3 -->\n<g id=\"edge3\" class=\"edge\">\n<title>2&#45;&gt;3</title>\n<path fill=\"none\" stroke=\"black\" d=\"M242.76,-579.91C230.38,-570.38 217.09,-560.15 204.39,-550.37\"/>\n<polygon fill=\"black\" stroke=\"black\" points=\"206.2,-547.35 196.14,-544.02 201.93,-552.89 206.2,-547.35\"/>\n</g>\n<!-- 10 -->\n<g id=\"node11\" class=\"node\">\n<title>10</title>\n<path fill=\"#e58139\" stroke=\"black\" d=\"M341.5,-536.5C341.5,-536.5 255.5,-536.5 255.5,-536.5 249.5,-536.5 243.5,-530.5 243.5,-524.5 243.5,-524.5 243.5,-480.5 243.5,-480.5 243.5,-474.5 249.5,-468.5 255.5,-468.5 255.5,-468.5 341.5,-468.5 341.5,-468.5 347.5,-468.5 353.5,-474.5 353.5,-480.5 353.5,-480.5 353.5,-524.5 353.5,-524.5 353.5,-530.5 347.5,-536.5 341.5,-536.5\"/>\n<text text-anchor=\"start\" x=\"270.5\" y=\"-521.3\" font-family=\"Helvetica,sans-Serif\" font-size=\"14.00\">gini = 0.0</text>\n<text text-anchor=\"start\" x=\"253.5\" y=\"-506.3\" font-family=\"Helvetica,sans-Serif\" font-size=\"14.00\">samples = 192</text>\n<text text-anchor=\"start\" x=\"251.5\" y=\"-491.3\" font-family=\"Helvetica,sans-Serif\" font-size=\"14.00\">value = [192, 0]</text>\n<text text-anchor=\"start\" x=\"271\" y=\"-476.3\" font-family=\"Helvetica,sans-Serif\" font-size=\"14.00\">class = p</text>\n</g>\n<!-- 2&#45;&gt;10 -->\n<g id=\"edge10\" class=\"edge\">\n<title>2&#45;&gt;10</title>\n<path fill=\"none\" stroke=\"black\" d=\"M296.54,-579.91C296.82,-569.2 297.11,-557.62 297.39,-546.78\"/>\n<polygon fill=\"black\" stroke=\"black\" points=\"300.89,-546.75 297.65,-536.67 293.89,-546.57 300.89,-546.75\"/>\n</g>\n<!-- 4 -->\n<g id=\"node5\" class=\"node\">\n<title>4</title>\n<path fill=\"#3c9ee5\" stroke=\"black\" d=\"M168,-425C168,-425 67,-425 67,-425 61,-425 55,-419 55,-413 55,-413 55,-354 55,-354 55,-348 61,-342 67,-342 67,-342 168,-342 168,-342 174,-342 180,-348 180,-354 180,-354 180,-413 180,-413 180,-419 174,-425 168,-425\"/>\n<text text-anchor=\"start\" x=\"79.5\" y=\"-409.8\" font-family=\"Helvetica,sans-Serif\" font-size=\"14.00\">odor_a ≤ 0.5</text>\n<text text-anchor=\"start\" x=\"82\" y=\"-394.8\" font-family=\"Helvetica,sans-Serif\" font-size=\"14.00\">gini = 0.025</text>\n<text text-anchor=\"start\" x=\"69\" y=\"-379.8\" font-family=\"Helvetica,sans-Serif\" font-size=\"14.00\">samples = 3808</text>\n<text text-anchor=\"start\" x=\"63\" y=\"-364.8\" font-family=\"Helvetica,sans-Serif\" font-size=\"14.00\">value = [48, 3760]</text>\n<text text-anchor=\"start\" x=\"90\" y=\"-349.8\" font-family=\"Helvetica,sans-Serif\" font-size=\"14.00\">class = e</text>\n</g>\n<!-- 3&#45;&gt;4 -->\n<g id=\"edge4\" class=\"edge\">\n<title>3&#45;&gt;4</title>\n<path fill=\"none\" stroke=\"black\" d=\"M134.48,-460.91C132.62,-452.56 130.65,-443.67 128.73,-435.02\"/>\n<polygon fill=\"black\" stroke=\"black\" points=\"132.09,-434.02 126.5,-425.02 125.26,-435.54 132.09,-434.02\"/>\n</g>\n<!-- 9 -->\n<g id=\"node10\" class=\"node\">\n<title>9</title>\n<path fill=\"#e58139\" stroke=\"black\" d=\"M288.5,-417.5C288.5,-417.5 210.5,-417.5 210.5,-417.5 204.5,-417.5 198.5,-411.5 198.5,-405.5 198.5,-405.5 198.5,-361.5 198.5,-361.5 198.5,-355.5 204.5,-349.5 210.5,-349.5 210.5,-349.5 288.5,-349.5 288.5,-349.5 294.5,-349.5 300.5,-355.5 300.5,-361.5 300.5,-361.5 300.5,-405.5 300.5,-405.5 300.5,-411.5 294.5,-417.5 288.5,-417.5\"/>\n<text text-anchor=\"start\" x=\"221.5\" y=\"-402.3\" font-family=\"Helvetica,sans-Serif\" font-size=\"14.00\">gini = 0.0</text>\n<text text-anchor=\"start\" x=\"208.5\" y=\"-387.3\" font-family=\"Helvetica,sans-Serif\" font-size=\"14.00\">samples = 48</text>\n<text text-anchor=\"start\" x=\"206.5\" y=\"-372.3\" font-family=\"Helvetica,sans-Serif\" font-size=\"14.00\">value = [48, 0]</text>\n<text text-anchor=\"start\" x=\"222\" y=\"-357.3\" font-family=\"Helvetica,sans-Serif\" font-size=\"14.00\">class = p</text>\n</g>\n<!-- 3&#45;&gt;9 -->\n<g id=\"edge9\" class=\"edge\">\n<title>3&#45;&gt;9</title>\n<path fill=\"none\" stroke=\"black\" d=\"M180.28,-460.91C190.77,-449.32 202.21,-436.7 212.71,-425.11\"/>\n<polygon fill=\"black\" stroke=\"black\" points=\"215.33,-427.43 219.45,-417.67 210.14,-422.73 215.33,-427.43\"/>\n</g>\n<!-- 5 -->\n<g id=\"node6\" class=\"node\">\n<title>5</title>\n<path fill=\"#3a9ee5\" stroke=\"black\" d=\"M115,-306C115,-306 14,-306 14,-306 8,-306 2,-300 2,-294 2,-294 2,-235 2,-235 2,-229 8,-223 14,-223 14,-223 115,-223 115,-223 121,-223 127,-229 127,-235 127,-235 127,-294 127,-294 127,-300 121,-306 115,-306\"/>\n<text text-anchor=\"start\" x=\"28.5\" y=\"-290.8\" font-family=\"Helvetica,sans-Serif\" font-size=\"14.00\">odor_l ≤ 0.5</text>\n<text text-anchor=\"start\" x=\"29\" y=\"-275.8\" font-family=\"Helvetica,sans-Serif\" font-size=\"14.00\">gini = 0.013</text>\n<text text-anchor=\"start\" x=\"16\" y=\"-260.8\" font-family=\"Helvetica,sans-Serif\" font-size=\"14.00\">samples = 3784</text>\n<text text-anchor=\"start\" x=\"10\" y=\"-245.8\" font-family=\"Helvetica,sans-Serif\" font-size=\"14.00\">value = [24, 3760]</text>\n<text text-anchor=\"start\" x=\"37\" y=\"-230.8\" font-family=\"Helvetica,sans-Serif\" font-size=\"14.00\">class = e</text>\n</g>\n<!-- 4&#45;&gt;5 -->\n<g id=\"edge5\" class=\"edge\">\n<title>4&#45;&gt;5</title>\n<path fill=\"none\" stroke=\"black\" d=\"M99.11,-341.91C95.21,-333.29 91.04,-324.09 87,-315.17\"/>\n<polygon fill=\"black\" stroke=\"black\" points=\"90.17,-313.69 82.86,-306.02 83.79,-316.57 90.17,-313.69\"/>\n</g>\n<!-- 8 -->\n<g id=\"node9\" class=\"node\">\n<title>8</title>\n<path fill=\"#e58139\" stroke=\"black\" d=\"M235.5,-298.5C235.5,-298.5 157.5,-298.5 157.5,-298.5 151.5,-298.5 145.5,-292.5 145.5,-286.5 145.5,-286.5 145.5,-242.5 145.5,-242.5 145.5,-236.5 151.5,-230.5 157.5,-230.5 157.5,-230.5 235.5,-230.5 235.5,-230.5 241.5,-230.5 247.5,-236.5 247.5,-242.5 247.5,-242.5 247.5,-286.5 247.5,-286.5 247.5,-292.5 241.5,-298.5 235.5,-298.5\"/>\n<text text-anchor=\"start\" x=\"168.5\" y=\"-283.3\" font-family=\"Helvetica,sans-Serif\" font-size=\"14.00\">gini = 0.0</text>\n<text text-anchor=\"start\" x=\"155.5\" y=\"-268.3\" font-family=\"Helvetica,sans-Serif\" font-size=\"14.00\">samples = 24</text>\n<text text-anchor=\"start\" x=\"153.5\" y=\"-253.3\" font-family=\"Helvetica,sans-Serif\" font-size=\"14.00\">value = [24, 0]</text>\n<text text-anchor=\"start\" x=\"169\" y=\"-238.3\" font-family=\"Helvetica,sans-Serif\" font-size=\"14.00\">class = p</text>\n</g>\n<!-- 4&#45;&gt;8 -->\n<g id=\"edge8\" class=\"edge\">\n<title>4&#45;&gt;8</title>\n<path fill=\"none\" stroke=\"black\" d=\"M144.91,-341.91C152.51,-330.65 160.77,-318.42 168.41,-307.11\"/>\n<polygon fill=\"black\" stroke=\"black\" points=\"171.41,-308.91 174.11,-298.67 165.61,-305 171.41,-308.91\"/>\n</g>\n<!-- 6 -->\n<g id=\"node7\" class=\"node\">\n<title>6</title>\n<path fill=\"#399de5\" stroke=\"black\" d=\"M105,-179.5C105,-179.5 12,-179.5 12,-179.5 6,-179.5 0,-173.5 0,-167.5 0,-167.5 0,-123.5 0,-123.5 0,-117.5 6,-111.5 12,-111.5 12,-111.5 105,-111.5 105,-111.5 111,-111.5 117,-117.5 117,-123.5 117,-123.5 117,-167.5 117,-167.5 117,-173.5 111,-179.5 105,-179.5\"/>\n<text text-anchor=\"start\" x=\"30.5\" y=\"-164.3\" font-family=\"Helvetica,sans-Serif\" font-size=\"14.00\">gini = 0.0</text>\n<text text-anchor=\"start\" x=\"10\" y=\"-149.3\" font-family=\"Helvetica,sans-Serif\" font-size=\"14.00\">samples = 3760</text>\n<text text-anchor=\"start\" x=\"8\" y=\"-134.3\" font-family=\"Helvetica,sans-Serif\" font-size=\"14.00\">value = [0, 3760]</text>\n<text text-anchor=\"start\" x=\"31\" y=\"-119.3\" font-family=\"Helvetica,sans-Serif\" font-size=\"14.00\">class = e</text>\n</g>\n<!-- 5&#45;&gt;6 -->\n<g id=\"edge6\" class=\"edge\">\n<title>5&#45;&gt;6</title>\n<path fill=\"none\" stroke=\"black\" d=\"M62.42,-222.91C61.87,-212.2 61.28,-200.62 60.72,-189.78\"/>\n<polygon fill=\"black\" stroke=\"black\" points=\"64.21,-189.47 60.2,-179.67 57.22,-189.83 64.21,-189.47\"/>\n</g>\n<!-- 7 -->\n<g id=\"node8\" class=\"node\">\n<title>7</title>\n<path fill=\"#e58139\" stroke=\"black\" d=\"M225.5,-179.5C225.5,-179.5 147.5,-179.5 147.5,-179.5 141.5,-179.5 135.5,-173.5 135.5,-167.5 135.5,-167.5 135.5,-123.5 135.5,-123.5 135.5,-117.5 141.5,-111.5 147.5,-111.5 147.5,-111.5 225.5,-111.5 225.5,-111.5 231.5,-111.5 237.5,-117.5 237.5,-123.5 237.5,-123.5 237.5,-167.5 237.5,-167.5 237.5,-173.5 231.5,-179.5 225.5,-179.5\"/>\n<text text-anchor=\"start\" x=\"158.5\" y=\"-164.3\" font-family=\"Helvetica,sans-Serif\" font-size=\"14.00\">gini = 0.0</text>\n<text text-anchor=\"start\" x=\"145.5\" y=\"-149.3\" font-family=\"Helvetica,sans-Serif\" font-size=\"14.00\">samples = 24</text>\n<text text-anchor=\"start\" x=\"143.5\" y=\"-134.3\" font-family=\"Helvetica,sans-Serif\" font-size=\"14.00\">value = [24, 0]</text>\n<text text-anchor=\"start\" x=\"159\" y=\"-119.3\" font-family=\"Helvetica,sans-Serif\" font-size=\"14.00\">class = p</text>\n</g>\n<!-- 5&#45;&gt;7 -->\n<g id=\"edge7\" class=\"edge\">\n<title>5&#45;&gt;7</title>\n<path fill=\"none\" stroke=\"black\" d=\"M106.83,-222.91C119.02,-211.21 132.32,-198.46 144.5,-186.78\"/>\n<polygon fill=\"black\" stroke=\"black\" points=\"147.12,-189.11 151.92,-179.67 142.28,-184.06 147.12,-189.11\"/>\n</g>\n<!-- 12 -->\n<g id=\"node13\" class=\"node\">\n<title>12</title>\n<path fill=\"#e58139\" stroke=\"black\" d=\"M479.5,-536.5C479.5,-536.5 393.5,-536.5 393.5,-536.5 387.5,-536.5 381.5,-530.5 381.5,-524.5 381.5,-524.5 381.5,-480.5 381.5,-480.5 381.5,-474.5 387.5,-468.5 393.5,-468.5 393.5,-468.5 479.5,-468.5 479.5,-468.5 485.5,-468.5 491.5,-474.5 491.5,-480.5 491.5,-480.5 491.5,-524.5 491.5,-524.5 491.5,-530.5 485.5,-536.5 479.5,-536.5\"/>\n<text text-anchor=\"start\" x=\"408.5\" y=\"-521.3\" font-family=\"Helvetica,sans-Serif\" font-size=\"14.00\">gini = 0.0</text>\n<text text-anchor=\"start\" x=\"391.5\" y=\"-506.3\" font-family=\"Helvetica,sans-Serif\" font-size=\"14.00\">samples = 512</text>\n<text text-anchor=\"start\" x=\"389.5\" y=\"-491.3\" font-family=\"Helvetica,sans-Serif\" font-size=\"14.00\">value = [512, 0]</text>\n<text text-anchor=\"start\" x=\"409\" y=\"-476.3\" font-family=\"Helvetica,sans-Serif\" font-size=\"14.00\">class = p</text>\n</g>\n<!-- 11&#45;&gt;12 -->\n<g id=\"edge12\" class=\"edge\">\n<title>11&#45;&gt;12</title>\n<path fill=\"none\" stroke=\"black\" d=\"M478.3,-579.91C472.26,-568.87 465.71,-556.9 459.62,-545.77\"/>\n<polygon fill=\"black\" stroke=\"black\" points=\"462.51,-543.76 454.64,-536.67 456.37,-547.12 462.51,-543.76\"/>\n</g>\n<!-- 13 -->\n<g id=\"node14\" class=\"node\">\n<title>13</title>\n<path fill=\"#399de5\" stroke=\"black\" d=\"M599.5,-536.5C599.5,-536.5 521.5,-536.5 521.5,-536.5 515.5,-536.5 509.5,-530.5 509.5,-524.5 509.5,-524.5 509.5,-480.5 509.5,-480.5 509.5,-474.5 515.5,-468.5 521.5,-468.5 521.5,-468.5 599.5,-468.5 599.5,-468.5 605.5,-468.5 611.5,-474.5 611.5,-480.5 611.5,-480.5 611.5,-524.5 611.5,-524.5 611.5,-530.5 605.5,-536.5 599.5,-536.5\"/>\n<text text-anchor=\"start\" x=\"532.5\" y=\"-521.3\" font-family=\"Helvetica,sans-Serif\" font-size=\"14.00\">gini = 0.0</text>\n<text text-anchor=\"start\" x=\"519.5\" y=\"-506.3\" font-family=\"Helvetica,sans-Serif\" font-size=\"14.00\">samples = 36</text>\n<text text-anchor=\"start\" x=\"517.5\" y=\"-491.3\" font-family=\"Helvetica,sans-Serif\" font-size=\"14.00\">value = [0, 36]</text>\n<text text-anchor=\"start\" x=\"533\" y=\"-476.3\" font-family=\"Helvetica,sans-Serif\" font-size=\"14.00\">class = e</text>\n</g>\n<!-- 11&#45;&gt;13 -->\n<g id=\"edge13\" class=\"edge\">\n<title>11&#45;&gt;13</title>\n<path fill=\"none\" stroke=\"black\" d=\"M521.32,-579.91C526.98,-568.87 533.12,-556.9 538.82,-545.77\"/>\n<polygon fill=\"black\" stroke=\"black\" points=\"542.04,-547.16 543.49,-536.67 535.81,-543.97 542.04,-547.16\"/>\n</g>\n<!-- 15 -->\n<g id=\"node16\" class=\"node\">\n<title>15</title>\n<path fill=\"#e5833c\" stroke=\"black\" d=\"M797.5,-663C797.5,-663 613.5,-663 613.5,-663 607.5,-663 601.5,-657 601.5,-651 601.5,-651 601.5,-592 601.5,-592 601.5,-586 607.5,-580 613.5,-580 613.5,-580 797.5,-580 797.5,-580 803.5,-580 809.5,-586 809.5,-592 809.5,-592 809.5,-651 809.5,-651 809.5,-657 803.5,-663 797.5,-663\"/>\n<text text-anchor=\"start\" x=\"609.5\" y=\"-647.8\" font-family=\"Helvetica,sans-Serif\" font-size=\"14.00\">stalk&#45;surface&#45;below&#45;ring_y ≤ 0.5</text>\n<text text-anchor=\"start\" x=\"670\" y=\"-632.8\" font-family=\"Helvetica,sans-Serif\" font-size=\"14.00\">gini = 0.027</text>\n<text text-anchor=\"start\" x=\"657\" y=\"-617.8\" font-family=\"Helvetica,sans-Serif\" font-size=\"14.00\">samples = 3456</text>\n<text text-anchor=\"start\" x=\"651\" y=\"-602.8\" font-family=\"Helvetica,sans-Serif\" font-size=\"14.00\">value = [3408, 48]</text>\n<text text-anchor=\"start\" x=\"678\" y=\"-587.8\" font-family=\"Helvetica,sans-Serif\" font-size=\"14.00\">class = p</text>\n</g>\n<!-- 14&#45;&gt;15 -->\n<g id=\"edge15\" class=\"edge\">\n<title>14&#45;&gt;15</title>\n<path fill=\"none\" stroke=\"black\" d=\"M705.5,-698.91C705.5,-690.65 705.5,-681.86 705.5,-673.3\"/>\n<polygon fill=\"black\" stroke=\"black\" points=\"709,-673.02 705.5,-663.02 702,-673.02 709,-673.02\"/>\n</g>\n<!-- 28 -->\n<g id=\"node29\" class=\"node\">\n<title>28</title>\n<path fill=\"#399de5\" stroke=\"black\" d=\"M917.5,-655.5C917.5,-655.5 839.5,-655.5 839.5,-655.5 833.5,-655.5 827.5,-649.5 827.5,-643.5 827.5,-643.5 827.5,-599.5 827.5,-599.5 827.5,-593.5 833.5,-587.5 839.5,-587.5 839.5,-587.5 917.5,-587.5 917.5,-587.5 923.5,-587.5 929.5,-593.5 929.5,-599.5 929.5,-599.5 929.5,-643.5 929.5,-643.5 929.5,-649.5 923.5,-655.5 917.5,-655.5\"/>\n<text text-anchor=\"start\" x=\"850.5\" y=\"-640.3\" font-family=\"Helvetica,sans-Serif\" font-size=\"14.00\">gini = 0.0</text>\n<text text-anchor=\"start\" x=\"837.5\" y=\"-625.3\" font-family=\"Helvetica,sans-Serif\" font-size=\"14.00\">samples = 72</text>\n<text text-anchor=\"start\" x=\"835.5\" y=\"-610.3\" font-family=\"Helvetica,sans-Serif\" font-size=\"14.00\">value = [0, 72]</text>\n<text text-anchor=\"start\" x=\"851\" y=\"-595.3\" font-family=\"Helvetica,sans-Serif\" font-size=\"14.00\">class = e</text>\n</g>\n<!-- 14&#45;&gt;28 -->\n<g id=\"edge28\" class=\"edge\">\n<title>14&#45;&gt;28</title>\n<path fill=\"none\" stroke=\"black\" d=\"M765.52,-698.91C783.47,-686.77 803.1,-673.49 820.89,-661.46\"/>\n<polygon fill=\"black\" stroke=\"black\" points=\"823.14,-664.17 829.46,-655.67 819.21,-658.37 823.14,-664.17\"/>\n</g>\n<!-- 16 -->\n<g id=\"node17\" class=\"node\">\n<title>16</title>\n<path fill=\"#e58139\" stroke=\"black\" d=\"M758.5,-544C758.5,-544 646.5,-544 646.5,-544 640.5,-544 634.5,-538 634.5,-532 634.5,-532 634.5,-473 634.5,-473 634.5,-467 640.5,-461 646.5,-461 646.5,-461 758.5,-461 758.5,-461 764.5,-461 770.5,-467 770.5,-473 770.5,-473 770.5,-532 770.5,-532 770.5,-538 764.5,-544 758.5,-544\"/>\n<text text-anchor=\"start\" x=\"642.5\" y=\"-528.8\" font-family=\"Helvetica,sans-Serif\" font-size=\"14.00\">cap&#45;surface_g ≤ 0.5</text>\n<text text-anchor=\"start\" x=\"667\" y=\"-513.8\" font-family=\"Helvetica,sans-Serif\" font-size=\"14.00\">gini = 0.005</text>\n<text text-anchor=\"start\" x=\"654\" y=\"-498.8\" font-family=\"Helvetica,sans-Serif\" font-size=\"14.00\">samples = 3400</text>\n<text text-anchor=\"start\" x=\"652\" y=\"-483.8\" font-family=\"Helvetica,sans-Serif\" font-size=\"14.00\">value = [3392, 8]</text>\n<text text-anchor=\"start\" x=\"675\" y=\"-468.8\" font-family=\"Helvetica,sans-Serif\" font-size=\"14.00\">class = p</text>\n</g>\n<!-- 15&#45;&gt;16 -->\n<g id=\"edge16\" class=\"edge\">\n<title>15&#45;&gt;16</title>\n<path fill=\"none\" stroke=\"black\" d=\"M704.46,-579.91C704.25,-571.56 704.02,-562.67 703.8,-554.02\"/>\n<polygon fill=\"black\" stroke=\"black\" points=\"707.29,-553.93 703.54,-544.02 700.3,-554.11 707.29,-553.93\"/>\n</g>\n<!-- 25 -->\n<g id=\"node26\" class=\"node\">\n<title>25</title>\n<path fill=\"#88c4ef\" stroke=\"black\" d=\"M972,-544C972,-544 801,-544 801,-544 795,-544 789,-538 789,-532 789,-532 789,-473 789,-473 789,-467 795,-461 801,-461 801,-461 972,-461 972,-461 978,-461 984,-467 984,-473 984,-473 984,-532 984,-532 984,-538 978,-544 972,-544\"/>\n<text text-anchor=\"start\" x=\"797\" y=\"-528.8\" font-family=\"Helvetica,sans-Serif\" font-size=\"14.00\">stalk&#45;color&#45;above&#45;ring_n ≤ 0.5</text>\n<text text-anchor=\"start\" x=\"851\" y=\"-513.8\" font-family=\"Helvetica,sans-Serif\" font-size=\"14.00\">gini = 0.408</text>\n<text text-anchor=\"start\" x=\"845.5\" y=\"-498.8\" font-family=\"Helvetica,sans-Serif\" font-size=\"14.00\">samples = 56</text>\n<text text-anchor=\"start\" x=\"839.5\" y=\"-483.8\" font-family=\"Helvetica,sans-Serif\" font-size=\"14.00\">value = [16, 40]</text>\n<text text-anchor=\"start\" x=\"859\" y=\"-468.8\" font-family=\"Helvetica,sans-Serif\" font-size=\"14.00\">class = e</text>\n</g>\n<!-- 15&#45;&gt;25 -->\n<g id=\"edge25\" class=\"edge\">\n<title>15&#45;&gt;25</title>\n<path fill=\"none\" stroke=\"black\" d=\"M768.3,-579.91C783.46,-570.11 799.77,-559.56 815.29,-549.53\"/>\n<polygon fill=\"black\" stroke=\"black\" points=\"817.32,-552.39 823.81,-544.02 813.52,-546.51 817.32,-552.39\"/>\n</g>\n<!-- 17 -->\n<g id=\"node18\" class=\"node\">\n<title>17</title>\n<path fill=\"#e58139\" stroke=\"black\" d=\"M641.5,-425C641.5,-425 537.5,-425 537.5,-425 531.5,-425 525.5,-419 525.5,-413 525.5,-413 525.5,-354 525.5,-354 525.5,-348 531.5,-342 537.5,-342 537.5,-342 641.5,-342 641.5,-342 647.5,-342 653.5,-348 653.5,-354 653.5,-354 653.5,-413 653.5,-413 653.5,-419 647.5,-425 641.5,-425\"/>\n<text text-anchor=\"start\" x=\"533.5\" y=\"-409.8\" font-family=\"Helvetica,sans-Serif\" font-size=\"14.00\">cap&#45;shape_c ≤ 0.5</text>\n<text text-anchor=\"start\" x=\"554\" y=\"-394.8\" font-family=\"Helvetica,sans-Serif\" font-size=\"14.00\">gini = 0.002</text>\n<text text-anchor=\"start\" x=\"541\" y=\"-379.8\" font-family=\"Helvetica,sans-Serif\" font-size=\"14.00\">samples = 3396</text>\n<text text-anchor=\"start\" x=\"539\" y=\"-364.8\" font-family=\"Helvetica,sans-Serif\" font-size=\"14.00\">value = [3392, 4]</text>\n<text text-anchor=\"start\" x=\"562\" y=\"-349.8\" font-family=\"Helvetica,sans-Serif\" font-size=\"14.00\">class = p</text>\n</g>\n<!-- 16&#45;&gt;17 -->\n<g id=\"edge17\" class=\"edge\">\n<title>16&#45;&gt;17</title>\n<path fill=\"none\" stroke=\"black\" d=\"M663.3,-460.91C654.44,-451.74 644.96,-441.93 635.85,-432.49\"/>\n<polygon fill=\"black\" stroke=\"black\" points=\"638.1,-429.78 628.64,-425.02 633.07,-434.65 638.1,-429.78\"/>\n</g>\n<!-- 24 -->\n<g id=\"node25\" class=\"node\">\n<title>24</title>\n<path fill=\"#399de5\" stroke=\"black\" d=\"M755,-417.5C755,-417.5 684,-417.5 684,-417.5 678,-417.5 672,-411.5 672,-405.5 672,-405.5 672,-361.5 672,-361.5 672,-355.5 678,-349.5 684,-349.5 684,-349.5 755,-349.5 755,-349.5 761,-349.5 767,-355.5 767,-361.5 767,-361.5 767,-405.5 767,-405.5 767,-411.5 761,-417.5 755,-417.5\"/>\n<text text-anchor=\"start\" x=\"691.5\" y=\"-402.3\" font-family=\"Helvetica,sans-Serif\" font-size=\"14.00\">gini = 0.0</text>\n<text text-anchor=\"start\" x=\"682\" y=\"-387.3\" font-family=\"Helvetica,sans-Serif\" font-size=\"14.00\">samples = 4</text>\n<text text-anchor=\"start\" x=\"680\" y=\"-372.3\" font-family=\"Helvetica,sans-Serif\" font-size=\"14.00\">value = [0, 4]</text>\n<text text-anchor=\"start\" x=\"692\" y=\"-357.3\" font-family=\"Helvetica,sans-Serif\" font-size=\"14.00\">class = e</text>\n</g>\n<!-- 16&#45;&gt;24 -->\n<g id=\"edge24\" class=\"edge\">\n<title>16&#45;&gt;24</title>\n<path fill=\"none\" stroke=\"black\" d=\"M708.4,-460.91C709.95,-450.2 711.64,-438.62 713.21,-427.78\"/>\n<polygon fill=\"black\" stroke=\"black\" points=\"716.71,-428.07 714.68,-417.67 709.78,-427.06 716.71,-428.07\"/>\n</g>\n<!-- 18 -->\n<g id=\"node19\" class=\"node\">\n<title>18</title>\n<path fill=\"#e58139\" stroke=\"black\" d=\"M548,-306C548,-306 455,-306 455,-306 449,-306 443,-300 443,-294 443,-294 443,-235 443,-235 443,-229 449,-223 455,-223 455,-223 548,-223 548,-223 554,-223 560,-229 560,-235 560,-235 560,-294 560,-294 560,-300 554,-306 548,-306\"/>\n<text text-anchor=\"start\" x=\"454.5\" y=\"-290.8\" font-family=\"Helvetica,sans-Serif\" font-size=\"14.00\">gill&#45;size_n ≤ 0.5</text>\n<text text-anchor=\"start\" x=\"466\" y=\"-275.8\" font-family=\"Helvetica,sans-Serif\" font-size=\"14.00\">gini = 0.002</text>\n<text text-anchor=\"start\" x=\"453\" y=\"-260.8\" font-family=\"Helvetica,sans-Serif\" font-size=\"14.00\">samples = 3395</text>\n<text text-anchor=\"start\" x=\"451\" y=\"-245.8\" font-family=\"Helvetica,sans-Serif\" font-size=\"14.00\">value = [3392, 3]</text>\n<text text-anchor=\"start\" x=\"474\" y=\"-230.8\" font-family=\"Helvetica,sans-Serif\" font-size=\"14.00\">class = p</text>\n</g>\n<!-- 17&#45;&gt;18 -->\n<g id=\"edge18\" class=\"edge\">\n<title>17&#45;&gt;18</title>\n<path fill=\"none\" stroke=\"black\" d=\"M558.97,-341.91C552.21,-332.92 544.98,-323.32 538.02,-314.05\"/>\n<polygon fill=\"black\" stroke=\"black\" points=\"540.79,-311.91 531.98,-306.02 535.19,-316.12 540.79,-311.91\"/>\n</g>\n<!-- 23 -->\n<g id=\"node24\" class=\"node\">\n<title>23</title>\n<path fill=\"#399de5\" stroke=\"black\" d=\"M661,-298.5C661,-298.5 590,-298.5 590,-298.5 584,-298.5 578,-292.5 578,-286.5 578,-286.5 578,-242.5 578,-242.5 578,-236.5 584,-230.5 590,-230.5 590,-230.5 661,-230.5 661,-230.5 667,-230.5 673,-236.5 673,-242.5 673,-242.5 673,-286.5 673,-286.5 673,-292.5 667,-298.5 661,-298.5\"/>\n<text text-anchor=\"start\" x=\"597.5\" y=\"-283.3\" font-family=\"Helvetica,sans-Serif\" font-size=\"14.00\">gini = 0.0</text>\n<text text-anchor=\"start\" x=\"588\" y=\"-268.3\" font-family=\"Helvetica,sans-Serif\" font-size=\"14.00\">samples = 1</text>\n<text text-anchor=\"start\" x=\"586\" y=\"-253.3\" font-family=\"Helvetica,sans-Serif\" font-size=\"14.00\">value = [0, 1]</text>\n<text text-anchor=\"start\" x=\"598\" y=\"-238.3\" font-family=\"Helvetica,sans-Serif\" font-size=\"14.00\">class = e</text>\n</g>\n<!-- 17&#45;&gt;23 -->\n<g id=\"edge23\" class=\"edge\">\n<title>17&#45;&gt;23</title>\n<path fill=\"none\" stroke=\"black\" d=\"M601.99,-341.91C605.32,-331.09 608.92,-319.38 612.29,-308.44\"/>\n<polygon fill=\"black\" stroke=\"black\" points=\"615.7,-309.25 615.29,-298.67 609.01,-307.2 615.7,-309.25\"/>\n</g>\n<!-- 19 -->\n<g id=\"node20\" class=\"node\">\n<title>19</title>\n<path fill=\"#e58139\" stroke=\"black\" d=\"M428,-179.5C428,-179.5 335,-179.5 335,-179.5 329,-179.5 323,-173.5 323,-167.5 323,-167.5 323,-123.5 323,-123.5 323,-117.5 329,-111.5 335,-111.5 335,-111.5 428,-111.5 428,-111.5 434,-111.5 440,-117.5 440,-123.5 440,-123.5 440,-167.5 440,-167.5 440,-173.5 434,-179.5 428,-179.5\"/>\n<text text-anchor=\"start\" x=\"353.5\" y=\"-164.3\" font-family=\"Helvetica,sans-Serif\" font-size=\"14.00\">gini = 0.0</text>\n<text text-anchor=\"start\" x=\"333\" y=\"-149.3\" font-family=\"Helvetica,sans-Serif\" font-size=\"14.00\">samples = 3200</text>\n<text text-anchor=\"start\" x=\"331\" y=\"-134.3\" font-family=\"Helvetica,sans-Serif\" font-size=\"14.00\">value = [3200, 0]</text>\n<text text-anchor=\"start\" x=\"354\" y=\"-119.3\" font-family=\"Helvetica,sans-Serif\" font-size=\"14.00\">class = p</text>\n</g>\n<!-- 18&#45;&gt;19 -->\n<g id=\"edge19\" class=\"edge\">\n<title>18&#45;&gt;19</title>\n<path fill=\"none\" stroke=\"black\" d=\"M459.87,-222.91C447.87,-211.21 434.79,-198.46 422.81,-186.78\"/>\n<polygon fill=\"black\" stroke=\"black\" points=\"425.12,-184.14 415.52,-179.67 420.23,-189.15 425.12,-184.14\"/>\n</g>\n<!-- 20 -->\n<g id=\"node21\" class=\"node\">\n<title>20</title>\n<path fill=\"#e5833c\" stroke=\"black\" d=\"M573,-187C573,-187 470,-187 470,-187 464,-187 458,-181 458,-175 458,-175 458,-116 458,-116 458,-110 464,-104 470,-104 470,-104 573,-104 573,-104 579,-104 585,-110 585,-116 585,-116 585,-175 585,-175 585,-181 579,-187 573,-187\"/>\n<text text-anchor=\"start\" x=\"466\" y=\"-171.8\" font-family=\"Helvetica,sans-Serif\" font-size=\"14.00\">population_c ≤ 0.5</text>\n<text text-anchor=\"start\" x=\"489.5\" y=\"-156.8\" font-family=\"Helvetica,sans-Serif\" font-size=\"14.00\">gini = 0.03</text>\n<text text-anchor=\"start\" x=\"476.5\" y=\"-141.8\" font-family=\"Helvetica,sans-Serif\" font-size=\"14.00\">samples = 195</text>\n<text text-anchor=\"start\" x=\"474.5\" y=\"-126.8\" font-family=\"Helvetica,sans-Serif\" font-size=\"14.00\">value = [192, 3]</text>\n<text text-anchor=\"start\" x=\"494\" y=\"-111.8\" font-family=\"Helvetica,sans-Serif\" font-size=\"14.00\">class = p</text>\n</g>\n<!-- 18&#45;&gt;20 -->\n<g id=\"edge20\" class=\"edge\">\n<title>18&#45;&gt;20</title>\n<path fill=\"none\" stroke=\"black\" d=\"M508.44,-222.91C509.87,-214.56 511.39,-205.67 512.86,-197.02\"/>\n<polygon fill=\"black\" stroke=\"black\" points=\"516.34,-197.47 514.57,-187.02 509.44,-196.29 516.34,-197.47\"/>\n</g>\n<!-- 21 -->\n<g id=\"node22\" class=\"node\">\n<title>21</title>\n<path fill=\"#e58139\" stroke=\"black\" d=\"M504.5,-68C504.5,-68 418.5,-68 418.5,-68 412.5,-68 406.5,-62 406.5,-56 406.5,-56 406.5,-12 406.5,-12 406.5,-6 412.5,0 418.5,0 418.5,0 504.5,0 504.5,0 510.5,0 516.5,-6 516.5,-12 516.5,-12 516.5,-56 516.5,-56 516.5,-62 510.5,-68 504.5,-68\"/>\n<text text-anchor=\"start\" x=\"433.5\" y=\"-52.8\" font-family=\"Helvetica,sans-Serif\" font-size=\"14.00\">gini = 0.0</text>\n<text text-anchor=\"start\" x=\"416.5\" y=\"-37.8\" font-family=\"Helvetica,sans-Serif\" font-size=\"14.00\">samples = 192</text>\n<text text-anchor=\"start\" x=\"414.5\" y=\"-22.8\" font-family=\"Helvetica,sans-Serif\" font-size=\"14.00\">value = [192, 0]</text>\n<text text-anchor=\"start\" x=\"434\" y=\"-7.8\" font-family=\"Helvetica,sans-Serif\" font-size=\"14.00\">class = p</text>\n</g>\n<!-- 20&#45;&gt;21 -->\n<g id=\"edge21\" class=\"edge\">\n<title>20&#45;&gt;21</title>\n<path fill=\"none\" stroke=\"black\" d=\"M499.16,-103.73C494.41,-95.06 489.39,-85.9 484.61,-77.18\"/>\n<polygon fill=\"black\" stroke=\"black\" points=\"487.62,-75.39 479.75,-68.3 481.48,-78.75 487.62,-75.39\"/>\n</g>\n<!-- 22 -->\n<g id=\"node23\" class=\"node\">\n<title>22</title>\n<path fill=\"#399de5\" stroke=\"black\" d=\"M618,-68C618,-68 547,-68 547,-68 541,-68 535,-62 535,-56 535,-56 535,-12 535,-12 535,-6 541,0 547,0 547,0 618,0 618,0 624,0 630,-6 630,-12 630,-12 630,-56 630,-56 630,-62 624,-68 618,-68\"/>\n<text text-anchor=\"start\" x=\"554.5\" y=\"-52.8\" font-family=\"Helvetica,sans-Serif\" font-size=\"14.00\">gini = 0.0</text>\n<text text-anchor=\"start\" x=\"545\" y=\"-37.8\" font-family=\"Helvetica,sans-Serif\" font-size=\"14.00\">samples = 3</text>\n<text text-anchor=\"start\" x=\"543\" y=\"-22.8\" font-family=\"Helvetica,sans-Serif\" font-size=\"14.00\">value = [0, 3]</text>\n<text text-anchor=\"start\" x=\"555\" y=\"-7.8\" font-family=\"Helvetica,sans-Serif\" font-size=\"14.00\">class = e</text>\n</g>\n<!-- 20&#45;&gt;22 -->\n<g id=\"edge22\" class=\"edge\">\n<title>20&#45;&gt;22</title>\n<path fill=\"none\" stroke=\"black\" d=\"M544.21,-103.73C549.04,-95.06 554.15,-85.9 559,-77.18\"/>\n<polygon fill=\"black\" stroke=\"black\" points=\"562.14,-78.74 563.95,-68.3 556.03,-75.33 562.14,-78.74\"/>\n</g>\n<!-- 26 -->\n<g id=\"node27\" class=\"node\">\n<title>26</title>\n<path fill=\"#399de5\" stroke=\"black\" d=\"M908.5,-417.5C908.5,-417.5 830.5,-417.5 830.5,-417.5 824.5,-417.5 818.5,-411.5 818.5,-405.5 818.5,-405.5 818.5,-361.5 818.5,-361.5 818.5,-355.5 824.5,-349.5 830.5,-349.5 830.5,-349.5 908.5,-349.5 908.5,-349.5 914.5,-349.5 920.5,-355.5 920.5,-361.5 920.5,-361.5 920.5,-405.5 920.5,-405.5 920.5,-411.5 914.5,-417.5 908.5,-417.5\"/>\n<text text-anchor=\"start\" x=\"841.5\" y=\"-402.3\" font-family=\"Helvetica,sans-Serif\" font-size=\"14.00\">gini = 0.0</text>\n<text text-anchor=\"start\" x=\"828.5\" y=\"-387.3\" font-family=\"Helvetica,sans-Serif\" font-size=\"14.00\">samples = 40</text>\n<text text-anchor=\"start\" x=\"826.5\" y=\"-372.3\" font-family=\"Helvetica,sans-Serif\" font-size=\"14.00\">value = [0, 40]</text>\n<text text-anchor=\"start\" x=\"842\" y=\"-357.3\" font-family=\"Helvetica,sans-Serif\" font-size=\"14.00\">class = e</text>\n</g>\n<!-- 25&#45;&gt;26 -->\n<g id=\"edge26\" class=\"edge\">\n<title>25&#45;&gt;26</title>\n<path fill=\"none\" stroke=\"black\" d=\"M880.6,-460.91C879.05,-450.2 877.36,-438.62 875.79,-427.78\"/>\n<polygon fill=\"black\" stroke=\"black\" points=\"879.22,-427.06 874.32,-417.67 872.29,-428.07 879.22,-427.06\"/>\n</g>\n<!-- 27 -->\n<g id=\"node28\" class=\"node\">\n<title>27</title>\n<path fill=\"#e58139\" stroke=\"black\" d=\"M1028.5,-417.5C1028.5,-417.5 950.5,-417.5 950.5,-417.5 944.5,-417.5 938.5,-411.5 938.5,-405.5 938.5,-405.5 938.5,-361.5 938.5,-361.5 938.5,-355.5 944.5,-349.5 950.5,-349.5 950.5,-349.5 1028.5,-349.5 1028.5,-349.5 1034.5,-349.5 1040.5,-355.5 1040.5,-361.5 1040.5,-361.5 1040.5,-405.5 1040.5,-405.5 1040.5,-411.5 1034.5,-417.5 1028.5,-417.5\"/>\n<text text-anchor=\"start\" x=\"961.5\" y=\"-402.3\" font-family=\"Helvetica,sans-Serif\" font-size=\"14.00\">gini = 0.0</text>\n<text text-anchor=\"start\" x=\"948.5\" y=\"-387.3\" font-family=\"Helvetica,sans-Serif\" font-size=\"14.00\">samples = 16</text>\n<text text-anchor=\"start\" x=\"946.5\" y=\"-372.3\" font-family=\"Helvetica,sans-Serif\" font-size=\"14.00\">value = [16, 0]</text>\n<text text-anchor=\"start\" x=\"962\" y=\"-357.3\" font-family=\"Helvetica,sans-Serif\" font-size=\"14.00\">class = p</text>\n</g>\n<!-- 25&#45;&gt;27 -->\n<g id=\"edge27\" class=\"edge\">\n<title>25&#45;&gt;27</title>\n<path fill=\"none\" stroke=\"black\" d=\"M922.24,-460.91C932.34,-449.43 943.34,-436.94 953.46,-425.44\"/>\n<polygon fill=\"black\" stroke=\"black\" points=\"956.32,-427.49 960.3,-417.67 951.07,-422.86 956.32,-427.49\"/>\n</g>\n</g>\n</svg>\n",
            "text/plain": [
              "<graphviz.sources.Source at 0x7f0a656995d0>"
            ]
          },
          "metadata": {},
          "execution_count": 50
        }
      ]
    },
    {
      "cell_type": "markdown",
      "source": [
        "9. Concluya el tema explicando lo aprendido en este laboratorio:"
      ],
      "metadata": {
        "id": "yRQSUsiy8Ol3"
      }
    },
    {
      "cell_type": "markdown",
      "source": [
        "~Escribir aquí las conclusiones obtenidas."
      ],
      "metadata": {
        "id": "E127gi6Q8Ukh"
      }
    }
  ]
}